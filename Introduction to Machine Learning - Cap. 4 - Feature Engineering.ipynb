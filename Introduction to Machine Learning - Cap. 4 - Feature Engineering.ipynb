{
 "cells": [
  {
   "cell_type": "markdown",
   "metadata": {},
   "source": [
    "# Representando Dados e Engenharia de Features"
   ]
  },
  {
   "cell_type": "markdown",
   "metadata": {},
   "source": [
    "Vimos no capítulo 2 que realizar o *scalling* das features contínuas é muito importante, para deixar elas na mesma forma de medida, por exemplo. Outra coisa importante é lidar com as **variáveis categóricas**, para que elas sejam entendidas pelo algoritmo.\n",
    "<br>\n",
    "\n",
    "Até agora só aplicamos aos algoritmos datasets bidimensionais, com valores numéricos e contínuos. Mas esses valores tratados estão longe de ser os mais comuns (com exceção de datasets já limpos em sites como o **kaggle**). "
   ]
  },
  {
   "cell_type": "markdown",
   "metadata": {},
   "source": [
    "## Categorical Variables\n",
    "\n",
    "Utilizando um dataset da renda de adultos americanos derivado do censo de 1994, podemos observar diversas variáveis categóricas."
   ]
  },
  {
   "cell_type": "code",
   "execution_count": 1,
   "metadata": {},
   "outputs": [
    {
     "data": {
      "text/html": [
       "<div>\n",
       "<style scoped>\n",
       "    .dataframe tbody tr th:only-of-type {\n",
       "        vertical-align: middle;\n",
       "    }\n",
       "\n",
       "    .dataframe tbody tr th {\n",
       "        vertical-align: top;\n",
       "    }\n",
       "\n",
       "    .dataframe thead th {\n",
       "        text-align: right;\n",
       "    }\n",
       "</style>\n",
       "<table border=\"1\" class=\"dataframe\">\n",
       "  <thead>\n",
       "    <tr style=\"text-align: right;\">\n",
       "      <th></th>\n",
       "      <th>age</th>\n",
       "      <th>workclass</th>\n",
       "      <th>fnlwgt</th>\n",
       "      <th>education</th>\n",
       "      <th>education-num</th>\n",
       "      <th>marital-status</th>\n",
       "      <th>occupation</th>\n",
       "      <th>relationship</th>\n",
       "      <th>race</th>\n",
       "      <th>gender</th>\n",
       "      <th>capital-gain</th>\n",
       "      <th>capital-loss</th>\n",
       "      <th>hours-per-week</th>\n",
       "      <th>native-country</th>\n",
       "      <th>income</th>\n",
       "    </tr>\n",
       "  </thead>\n",
       "  <tbody>\n",
       "    <tr>\n",
       "      <th>0</th>\n",
       "      <td>39</td>\n",
       "      <td>State-gov</td>\n",
       "      <td>77516</td>\n",
       "      <td>Bachelors</td>\n",
       "      <td>13</td>\n",
       "      <td>Never-married</td>\n",
       "      <td>Adm-clerical</td>\n",
       "      <td>Not-in-family</td>\n",
       "      <td>White</td>\n",
       "      <td>Male</td>\n",
       "      <td>2174</td>\n",
       "      <td>0</td>\n",
       "      <td>40</td>\n",
       "      <td>United-States</td>\n",
       "      <td>&lt;=50K</td>\n",
       "    </tr>\n",
       "    <tr>\n",
       "      <th>1</th>\n",
       "      <td>50</td>\n",
       "      <td>Self-emp-not-inc</td>\n",
       "      <td>83311</td>\n",
       "      <td>Bachelors</td>\n",
       "      <td>13</td>\n",
       "      <td>Married-civ-spouse</td>\n",
       "      <td>Exec-managerial</td>\n",
       "      <td>Husband</td>\n",
       "      <td>White</td>\n",
       "      <td>Male</td>\n",
       "      <td>0</td>\n",
       "      <td>0</td>\n",
       "      <td>13</td>\n",
       "      <td>United-States</td>\n",
       "      <td>&lt;=50K</td>\n",
       "    </tr>\n",
       "    <tr>\n",
       "      <th>2</th>\n",
       "      <td>38</td>\n",
       "      <td>Private</td>\n",
       "      <td>215646</td>\n",
       "      <td>HS-grad</td>\n",
       "      <td>9</td>\n",
       "      <td>Divorced</td>\n",
       "      <td>Handlers-cleaners</td>\n",
       "      <td>Not-in-family</td>\n",
       "      <td>White</td>\n",
       "      <td>Male</td>\n",
       "      <td>0</td>\n",
       "      <td>0</td>\n",
       "      <td>40</td>\n",
       "      <td>United-States</td>\n",
       "      <td>&lt;=50K</td>\n",
       "    </tr>\n",
       "    <tr>\n",
       "      <th>3</th>\n",
       "      <td>53</td>\n",
       "      <td>Private</td>\n",
       "      <td>234721</td>\n",
       "      <td>11th</td>\n",
       "      <td>7</td>\n",
       "      <td>Married-civ-spouse</td>\n",
       "      <td>Handlers-cleaners</td>\n",
       "      <td>Husband</td>\n",
       "      <td>Black</td>\n",
       "      <td>Male</td>\n",
       "      <td>0</td>\n",
       "      <td>0</td>\n",
       "      <td>40</td>\n",
       "      <td>United-States</td>\n",
       "      <td>&lt;=50K</td>\n",
       "    </tr>\n",
       "    <tr>\n",
       "      <th>4</th>\n",
       "      <td>28</td>\n",
       "      <td>Private</td>\n",
       "      <td>338409</td>\n",
       "      <td>Bachelors</td>\n",
       "      <td>13</td>\n",
       "      <td>Married-civ-spouse</td>\n",
       "      <td>Prof-specialty</td>\n",
       "      <td>Wife</td>\n",
       "      <td>Black</td>\n",
       "      <td>Female</td>\n",
       "      <td>0</td>\n",
       "      <td>0</td>\n",
       "      <td>40</td>\n",
       "      <td>Cuba</td>\n",
       "      <td>&lt;=50K</td>\n",
       "    </tr>\n",
       "  </tbody>\n",
       "</table>\n",
       "</div>"
      ],
      "text/plain": [
       "   age          workclass  fnlwgt   education  education-num  \\\n",
       "0   39          State-gov   77516   Bachelors             13   \n",
       "1   50   Self-emp-not-inc   83311   Bachelors             13   \n",
       "2   38            Private  215646     HS-grad              9   \n",
       "3   53            Private  234721        11th              7   \n",
       "4   28            Private  338409   Bachelors             13   \n",
       "\n",
       "        marital-status          occupation    relationship    race   gender  \\\n",
       "0        Never-married        Adm-clerical   Not-in-family   White     Male   \n",
       "1   Married-civ-spouse     Exec-managerial         Husband   White     Male   \n",
       "2             Divorced   Handlers-cleaners   Not-in-family   White     Male   \n",
       "3   Married-civ-spouse   Handlers-cleaners         Husband   Black     Male   \n",
       "4   Married-civ-spouse      Prof-specialty            Wife   Black   Female   \n",
       "\n",
       "   capital-gain  capital-loss  hours-per-week  native-country  income  \n",
       "0          2174             0              40   United-States   <=50K  \n",
       "1             0             0              13   United-States   <=50K  \n",
       "2             0             0              40   United-States   <=50K  \n",
       "3             0             0              40   United-States   <=50K  \n",
       "4             0             0              40            Cuba   <=50K  "
      ]
     },
     "execution_count": 1,
     "metadata": {},
     "output_type": "execute_result"
    }
   ],
   "source": [
    "import pandas as pd\n",
    "import numpy as np\n",
    "import matplotlib.pyplot as plt\n",
    "import mglearn\n",
    "\n",
    "url = \"https://raw.githubusercontent.com/amueller/introduction_to_ml_with_python/master/data/adult.data\"\n",
    "df = pd.read_csv(url, header=None, index_col=False,\n",
    "    names=['age', 'workclass', 'fnlwgt', 'education',  'education-num',\n",
    "           'marital-status', 'occupation', 'relationship', 'race', 'gender',\n",
    "           'capital-gain', 'capital-loss', 'hours-per-week', 'native-country',\n",
    "           'income'])\n",
    "\n",
    "df.head(5)"
   ]
  },
  {
   "cell_type": "markdown",
   "metadata": {},
   "source": [
    "Além da idade, das horas semanais trabalhadas e aquelas relacionadas ao valor de capital, todas as outras váriaveis desse dataset são categóricas. Aí entram:\n",
    "* Educação (numérica ou não)\n",
    "* Classe do trabalho\n",
    "* Status de relacionamento\n",
    "* Raça\n",
    "e etc..."
   ]
  },
  {
   "cell_type": "markdown",
   "metadata": {},
   "source": [
    "### One-Hot-Encoding (Dummy Variables)"
   ]
  },
  {
   "cell_type": "code",
   "execution_count": 2,
   "metadata": {},
   "outputs": [
    {
     "data": {
      "text/html": [
       "<div>\n",
       "<style scoped>\n",
       "    .dataframe tbody tr th:only-of-type {\n",
       "        vertical-align: middle;\n",
       "    }\n",
       "\n",
       "    .dataframe tbody tr th {\n",
       "        vertical-align: top;\n",
       "    }\n",
       "\n",
       "    .dataframe thead th {\n",
       "        text-align: right;\n",
       "    }\n",
       "</style>\n",
       "<table border=\"1\" class=\"dataframe\">\n",
       "  <thead>\n",
       "    <tr style=\"text-align: right;\">\n",
       "      <th></th>\n",
       "      <th>age</th>\n",
       "      <th>workclass</th>\n",
       "      <th>education</th>\n",
       "      <th>gender</th>\n",
       "      <th>hours-per-week</th>\n",
       "      <th>occupation</th>\n",
       "      <th>income</th>\n",
       "    </tr>\n",
       "  </thead>\n",
       "  <tbody>\n",
       "    <tr>\n",
       "      <th>0</th>\n",
       "      <td>39</td>\n",
       "      <td>State-gov</td>\n",
       "      <td>Bachelors</td>\n",
       "      <td>Male</td>\n",
       "      <td>40</td>\n",
       "      <td>Adm-clerical</td>\n",
       "      <td>&lt;=50K</td>\n",
       "    </tr>\n",
       "    <tr>\n",
       "      <th>1</th>\n",
       "      <td>50</td>\n",
       "      <td>Self-emp-not-inc</td>\n",
       "      <td>Bachelors</td>\n",
       "      <td>Male</td>\n",
       "      <td>13</td>\n",
       "      <td>Exec-managerial</td>\n",
       "      <td>&lt;=50K</td>\n",
       "    </tr>\n",
       "    <tr>\n",
       "      <th>2</th>\n",
       "      <td>38</td>\n",
       "      <td>Private</td>\n",
       "      <td>HS-grad</td>\n",
       "      <td>Male</td>\n",
       "      <td>40</td>\n",
       "      <td>Handlers-cleaners</td>\n",
       "      <td>&lt;=50K</td>\n",
       "    </tr>\n",
       "    <tr>\n",
       "      <th>3</th>\n",
       "      <td>53</td>\n",
       "      <td>Private</td>\n",
       "      <td>11th</td>\n",
       "      <td>Male</td>\n",
       "      <td>40</td>\n",
       "      <td>Handlers-cleaners</td>\n",
       "      <td>&lt;=50K</td>\n",
       "    </tr>\n",
       "    <tr>\n",
       "      <th>4</th>\n",
       "      <td>28</td>\n",
       "      <td>Private</td>\n",
       "      <td>Bachelors</td>\n",
       "      <td>Female</td>\n",
       "      <td>40</td>\n",
       "      <td>Prof-specialty</td>\n",
       "      <td>&lt;=50K</td>\n",
       "    </tr>\n",
       "  </tbody>\n",
       "</table>\n",
       "</div>"
      ],
      "text/plain": [
       "   age          workclass   education   gender  hours-per-week  \\\n",
       "0   39          State-gov   Bachelors     Male              40   \n",
       "1   50   Self-emp-not-inc   Bachelors     Male              13   \n",
       "2   38            Private     HS-grad     Male              40   \n",
       "3   53            Private        11th     Male              40   \n",
       "4   28            Private   Bachelors   Female              40   \n",
       "\n",
       "           occupation  income  \n",
       "0        Adm-clerical   <=50K  \n",
       "1     Exec-managerial   <=50K  \n",
       "2   Handlers-cleaners   <=50K  \n",
       "3   Handlers-cleaners   <=50K  \n",
       "4      Prof-specialty   <=50K  "
      ]
     },
     "execution_count": 2,
     "metadata": {},
     "output_type": "execute_result"
    }
   ],
   "source": [
    "# Vou cortar o dataframe para que facilite a visualização da mudança nas colunas\n",
    "df = df[['age', 'workclass', 'education', 'gender', 'hours-per-week'\n",
    "        , 'occupation', 'income']]\n",
    "\n",
    "df.head(5)"
   ]
  },
  {
   "cell_type": "markdown",
   "metadata": {},
   "source": [
    "Antes de fazer qualquer mudança nos dados categóricos, é válido dar uma olhada pra ver se eles estão de acordo com o que tu espera. Supondo que o dataset seja feito a partir de uma **survey** de um site, alguém poderia escrever *Man* como genêro ao invés de *Male*. \n",
    "<br>\n",
    "\n",
    "Uma forma de verificar os valores de uma coluna categórica é usando o `value_counts()`:"
   ]
  },
  {
   "cell_type": "code",
   "execution_count": 3,
   "metadata": {},
   "outputs": [
    {
     "data": {
      "text/plain": [
       " Male      21790\n",
       " Female    10771\n",
       "Name: gender, dtype: int64"
      ]
     },
     "execution_count": 3,
     "metadata": {},
     "output_type": "execute_result"
    }
   ],
   "source": [
    "df['gender'].value_counts()"
   ]
  },
  {
   "cell_type": "code",
   "execution_count": 4,
   "metadata": {},
   "outputs": [
    {
     "data": {
      "text/plain": [
       " HS-grad         10501\n",
       " Some-college     7291\n",
       " Bachelors        5355\n",
       " Masters          1723\n",
       " Assoc-voc        1382\n",
       " 11th             1175\n",
       " Assoc-acdm       1067\n",
       " 10th              933\n",
       " 7th-8th           646\n",
       " Prof-school       576\n",
       " 9th               514\n",
       " 12th              433\n",
       " Doctorate         413\n",
       " 5th-6th           333\n",
       " 1st-4th           168\n",
       " Preschool          51\n",
       "Name: education, dtype: int64"
      ]
     },
     "execution_count": 4,
     "metadata": {},
     "output_type": "execute_result"
    }
   ],
   "source": [
    "df['education'].value_counts()"
   ]
  },
  {
   "cell_type": "markdown",
   "metadata": {},
   "source": [
    "A forma mais simples de fazer **one-hot-encoding** no pandas é utilizando a função `get_dummies`, que transforma toda variável categórica automaticamente:"
   ]
  },
  {
   "cell_type": "code",
   "execution_count": 5,
   "metadata": {},
   "outputs": [
    {
     "name": "stdout",
     "output_type": "stream",
     "text": [
      "Features originais:\n",
      " ['age', 'workclass', 'education', 'gender', 'hours-per-week', 'occupation', 'income'] \n",
      "\n",
      "Features depois do get_dummies:\n",
      " ['age', 'hours-per-week', 'workclass_ ?', 'workclass_ Federal-gov', 'workclass_ Local-gov', 'workclass_ Never-worked', 'workclass_ Private', 'workclass_ Self-emp-inc', 'workclass_ Self-emp-not-inc', 'workclass_ State-gov', 'workclass_ Without-pay', 'education_ 10th', 'education_ 11th', 'education_ 12th', 'education_ 1st-4th', 'education_ 5th-6th', 'education_ 7th-8th', 'education_ 9th', 'education_ Assoc-acdm', 'education_ Assoc-voc', 'education_ Bachelors', 'education_ Doctorate', 'education_ HS-grad', 'education_ Masters', 'education_ Preschool', 'education_ Prof-school', 'education_ Some-college', 'gender_ Female', 'gender_ Male', 'occupation_ ?', 'occupation_ Adm-clerical', 'occupation_ Armed-Forces', 'occupation_ Craft-repair', 'occupation_ Exec-managerial', 'occupation_ Farming-fishing', 'occupation_ Handlers-cleaners', 'occupation_ Machine-op-inspct', 'occupation_ Other-service', 'occupation_ Priv-house-serv', 'occupation_ Prof-specialty', 'occupation_ Protective-serv', 'occupation_ Sales', 'occupation_ Tech-support', 'occupation_ Transport-moving', 'income_ <=50K', 'income_ >50K']\n"
     ]
    }
   ],
   "source": [
    "print(\"Features originais:\\n\", list(df.columns), \"\\n\")\n",
    "df_dummies = pd.get_dummies(df)\n",
    "print(\"Features depois do get_dummies:\\n\", list(df_dummies.columns))"
   ]
  },
  {
   "cell_type": "code",
   "execution_count": 6,
   "metadata": {},
   "outputs": [
    {
     "name": "stdout",
     "output_type": "stream",
     "text": [
      "X.shape: (32561, 44) y.shape: (32561,)\n"
     ]
    }
   ],
   "source": [
    "features = df_dummies.loc[:, 'age':'occupation_ Transport-moving']\n",
    "\n",
    "# Separar o X e o y\n",
    "\n",
    "X = features.values\n",
    "y = df_dummies['income_ >50K'].values\n",
    "print(\"X.shape: {} y.shape: {}\".format(X.shape, y.shape))"
   ]
  },
  {
   "cell_type": "code",
   "execution_count": 7,
   "metadata": {},
   "outputs": [
    {
     "name": "stdout",
     "output_type": "stream",
     "text": [
      "Test score: 0.8092371944478566\n"
     ]
    }
   ],
   "source": [
    "from sklearn.linear_model import LogisticRegression\n",
    "from sklearn.model_selection import train_test_split\n",
    "\n",
    "X_train, X_test, y_train, y_test = train_test_split(X, y, random_state=0)\n",
    "logreg = LogisticRegression(max_iter = 2000)\n",
    "logreg.fit(X_train, y_train)\n",
    "\n",
    "print(f\"Test score: {logreg.score(X_test, y_test)}\")"
   ]
  },
  {
   "cell_type": "markdown",
   "metadata": {},
   "source": [
    "Por motivos óbvios, é importante utilizar o `get_dummies` antes de separar o training e o test set. "
   ]
  },
  {
   "cell_type": "markdown",
   "metadata": {},
   "source": [
    "### Dados Categóricos como Integers"
   ]
  },
  {
   "cell_type": "markdown",
   "metadata": {},
   "source": [
    "Assim como é comum os dados categóricos serem escritos, também é comum eles serem marcados como integers. Isso evita erros de escrita pra quem está coletando os dados e facilita o armazenamento.\n",
    "<br>\n",
    "\n",
    "Dados catégoricos coletados como integers devem ser tratados como dados categóricos e não contínuos. Como a função `get_dummies` só transforma dados que estão em formato de string, precisamos usar uma segunda função (ou transofrmar os int em string)."
   ]
  },
  {
   "cell_type": "code",
   "execution_count": 8,
   "metadata": {},
   "outputs": [
    {
     "data": {
      "text/html": [
       "<div>\n",
       "<style scoped>\n",
       "    .dataframe tbody tr th:only-of-type {\n",
       "        vertical-align: middle;\n",
       "    }\n",
       "\n",
       "    .dataframe tbody tr th {\n",
       "        vertical-align: top;\n",
       "    }\n",
       "\n",
       "    .dataframe thead th {\n",
       "        text-align: right;\n",
       "    }\n",
       "</style>\n",
       "<table border=\"1\" class=\"dataframe\">\n",
       "  <thead>\n",
       "    <tr style=\"text-align: right;\">\n",
       "      <th></th>\n",
       "      <th>Integer Feature</th>\n",
       "      <th>Categorical Feature</th>\n",
       "    </tr>\n",
       "  </thead>\n",
       "  <tbody>\n",
       "    <tr>\n",
       "      <th>0</th>\n",
       "      <td>0</td>\n",
       "      <td>socks</td>\n",
       "    </tr>\n",
       "    <tr>\n",
       "      <th>1</th>\n",
       "      <td>1</td>\n",
       "      <td>fox</td>\n",
       "    </tr>\n",
       "    <tr>\n",
       "      <th>2</th>\n",
       "      <td>2</td>\n",
       "      <td>socks</td>\n",
       "    </tr>\n",
       "    <tr>\n",
       "      <th>3</th>\n",
       "      <td>1</td>\n",
       "      <td>box</td>\n",
       "    </tr>\n",
       "  </tbody>\n",
       "</table>\n",
       "</div>"
      ],
      "text/plain": [
       "   Integer Feature Categorical Feature\n",
       "0                0               socks\n",
       "1                1                 fox\n",
       "2                2               socks\n",
       "3                1                 box"
      ]
     },
     "execution_count": 8,
     "metadata": {},
     "output_type": "execute_result"
    }
   ],
   "source": [
    "demo_df = pd.DataFrame({'Integer Feature': [0, 1, 2, 1],\n",
    " 'Categorical Feature': ['socks', 'fox', 'socks', 'box']})\n",
    "\n",
    "demo_df"
   ]
  },
  {
   "cell_type": "code",
   "execution_count": 9,
   "metadata": {},
   "outputs": [
    {
     "data": {
      "text/html": [
       "<div>\n",
       "<style scoped>\n",
       "    .dataframe tbody tr th:only-of-type {\n",
       "        vertical-align: middle;\n",
       "    }\n",
       "\n",
       "    .dataframe tbody tr th {\n",
       "        vertical-align: top;\n",
       "    }\n",
       "\n",
       "    .dataframe thead th {\n",
       "        text-align: right;\n",
       "    }\n",
       "</style>\n",
       "<table border=\"1\" class=\"dataframe\">\n",
       "  <thead>\n",
       "    <tr style=\"text-align: right;\">\n",
       "      <th></th>\n",
       "      <th>Integer Feature</th>\n",
       "      <th>Categorical Feature_box</th>\n",
       "      <th>Categorical Feature_fox</th>\n",
       "      <th>Categorical Feature_socks</th>\n",
       "    </tr>\n",
       "  </thead>\n",
       "  <tbody>\n",
       "    <tr>\n",
       "      <th>0</th>\n",
       "      <td>0</td>\n",
       "      <td>0</td>\n",
       "      <td>0</td>\n",
       "      <td>1</td>\n",
       "    </tr>\n",
       "    <tr>\n",
       "      <th>1</th>\n",
       "      <td>1</td>\n",
       "      <td>0</td>\n",
       "      <td>1</td>\n",
       "      <td>0</td>\n",
       "    </tr>\n",
       "    <tr>\n",
       "      <th>2</th>\n",
       "      <td>2</td>\n",
       "      <td>0</td>\n",
       "      <td>0</td>\n",
       "      <td>1</td>\n",
       "    </tr>\n",
       "    <tr>\n",
       "      <th>3</th>\n",
       "      <td>1</td>\n",
       "      <td>1</td>\n",
       "      <td>0</td>\n",
       "      <td>0</td>\n",
       "    </tr>\n",
       "  </tbody>\n",
       "</table>\n",
       "</div>"
      ],
      "text/plain": [
       "   Integer Feature  Categorical Feature_box  Categorical Feature_fox  \\\n",
       "0                0                        0                        0   \n",
       "1                1                        0                        1   \n",
       "2                2                        0                        0   \n",
       "3                1                        1                        0   \n",
       "\n",
       "   Categorical Feature_socks  \n",
       "0                          1  \n",
       "1                          0  \n",
       "2                          1  \n",
       "3                          0  "
      ]
     },
     "execution_count": 9,
     "metadata": {},
     "output_type": "execute_result"
    }
   ],
   "source": [
    "# O get_dummies não reconhece a primeira coluna\n",
    "pd.get_dummies(demo_df)"
   ]
  },
  {
   "cell_type": "code",
   "execution_count": 10,
   "metadata": {},
   "outputs": [
    {
     "data": {
      "text/html": [
       "<div>\n",
       "<style scoped>\n",
       "    .dataframe tbody tr th:only-of-type {\n",
       "        vertical-align: middle;\n",
       "    }\n",
       "\n",
       "    .dataframe tbody tr th {\n",
       "        vertical-align: top;\n",
       "    }\n",
       "\n",
       "    .dataframe thead th {\n",
       "        text-align: right;\n",
       "    }\n",
       "</style>\n",
       "<table border=\"1\" class=\"dataframe\">\n",
       "  <thead>\n",
       "    <tr style=\"text-align: right;\">\n",
       "      <th></th>\n",
       "      <th>Integer Feature_0</th>\n",
       "      <th>Integer Feature_1</th>\n",
       "      <th>Integer Feature_2</th>\n",
       "      <th>Categorical Feature_box</th>\n",
       "      <th>Categorical Feature_fox</th>\n",
       "      <th>Categorical Feature_socks</th>\n",
       "    </tr>\n",
       "  </thead>\n",
       "  <tbody>\n",
       "    <tr>\n",
       "      <th>0</th>\n",
       "      <td>1</td>\n",
       "      <td>0</td>\n",
       "      <td>0</td>\n",
       "      <td>0</td>\n",
       "      <td>0</td>\n",
       "      <td>1</td>\n",
       "    </tr>\n",
       "    <tr>\n",
       "      <th>1</th>\n",
       "      <td>0</td>\n",
       "      <td>1</td>\n",
       "      <td>0</td>\n",
       "      <td>0</td>\n",
       "      <td>1</td>\n",
       "      <td>0</td>\n",
       "    </tr>\n",
       "    <tr>\n",
       "      <th>2</th>\n",
       "      <td>0</td>\n",
       "      <td>0</td>\n",
       "      <td>1</td>\n",
       "      <td>0</td>\n",
       "      <td>0</td>\n",
       "      <td>1</td>\n",
       "    </tr>\n",
       "    <tr>\n",
       "      <th>3</th>\n",
       "      <td>0</td>\n",
       "      <td>1</td>\n",
       "      <td>0</td>\n",
       "      <td>1</td>\n",
       "      <td>0</td>\n",
       "      <td>0</td>\n",
       "    </tr>\n",
       "  </tbody>\n",
       "</table>\n",
       "</div>"
      ],
      "text/plain": [
       "   Integer Feature_0  Integer Feature_1  Integer Feature_2  \\\n",
       "0                  1                  0                  0   \n",
       "1                  0                  1                  0   \n",
       "2                  0                  0                  1   \n",
       "3                  0                  1                  0   \n",
       "\n",
       "   Categorical Feature_box  Categorical Feature_fox  Categorical Feature_socks  \n",
       "0                        0                        0                          1  \n",
       "1                        0                        1                          0  \n",
       "2                        0                        0                          1  \n",
       "3                        1                        0                          0  "
      ]
     },
     "execution_count": 10,
     "metadata": {},
     "output_type": "execute_result"
    }
   ],
   "source": [
    "# Podemos transforma-la em str\n",
    "demo_df['Integer Feature'] = demo_df['Integer Feature'].astype(str)\n",
    "\n",
    "pd.get_dummies(demo_df, columns=['Integer Feature', 'Categorical Feature'])"
   ]
  },
  {
   "cell_type": "markdown",
   "metadata": {},
   "source": [
    "## Binning, Discretization, Modelos Lineares e de Árvore"
   ]
  },
  {
   "cell_type": "markdown",
   "metadata": {},
   "source": [
    "A **representação dos dados deve levar em consideração também o modelo que será usado para fazer a previsão**. Modelos lineares e modelos baseados em árvores lidam com os dados de forma bem diferente um do outro. "
   ]
  },
  {
   "cell_type": "code",
   "execution_count": 11,
   "metadata": {},
   "outputs": [
    {
     "data": {
      "text/plain": [
       "<matplotlib.legend.Legend at 0x20f3ef26100>"
      ]
     },
     "execution_count": 11,
     "metadata": {},
     "output_type": "execute_result"
    },
    {
     "data": {
      "image/png": "[encoded data removed]",
      "text/plain": [
       "<Figure size 432x288 with 1 Axes>"
      ]
     },
     "metadata": {
      "needs_background": "light"
     },
     "output_type": "display_data"
    }
   ],
   "source": [
    "from sklearn.linear_model import LinearRegression\n",
    "from sklearn.tree import DecisionTreeRegressor\n",
    "\n",
    "X, y = mglearn.datasets.make_wave(n_samples=100)\n",
    "line = np.linspace(-3, 3, 1000, endpoint=False).reshape(-1, 1)\n",
    "\n",
    "dtreg = DecisionTreeRegressor(min_samples_split=3).fit(X, y)\n",
    "plt.plot(line, dtreg.predict(line), label=\"decision tree\")\n",
    "\n",
    "lreg = LinearRegression().fit(X, y)\n",
    "plt.plot(line, lreg.predict(line), label=\"linear regression\")\n",
    "\n",
    "plt.plot(X[:, 0], y, 'o', c='k')\n",
    "plt.ylabel(\"Regression output\")\n",
    "plt.xlabel(\"Input feature\")\n",
    "plt.legend(loc=\"best\")"
   ]
  },
  {
   "cell_type": "markdown",
   "metadata": {},
   "source": [
    "Por causa da forma que eles funcionam, os resultados gerados pelos dois modelos são bem diferentes. Em um dataset com apenas uma feature como é o caso do `make_wave`, o **linear regression só consegue prever uma linha**. \n",
    "<br>\n",
    "\n",
    "Uma forma de deixar um modelo linear mais forte - em um dataset com poucas (ou uma) features - é utilizar a estratégia de **binning**, que também é chamada de **discretization**. Ela consiste em transformar uma feature contínua em múltiplas features utilizando *bins*, como em um histograma."
   ]
  },
  {
   "cell_type": "code",
   "execution_count": 12,
   "metadata": {},
   "outputs": [
    {
     "name": "stdout",
     "output_type": "stream",
     "text": [
      "bins: [-3.  -2.4 -1.8 -1.2 -0.6  0.   0.6  1.2  1.8  2.4  3. ]\n"
     ]
    }
   ],
   "source": [
    "bins = np.linspace(-3, 3, 11)\n",
    "print(f\"bins: {bins}\")"
   ]
  },
  {
   "cell_type": "markdown",
   "metadata": {},
   "source": [
    "Acima, uma pequena parte do input range da feature contínua foi particionado em 10 bins (do -3 ao 3). Então, usamos a função do numpy chamada `np.digitize` para alocar cada ponto da feature em uma bin, de acordo com seu valor.  "
   ]
  },
  {
   "cell_type": "code",
   "execution_count": 13,
   "metadata": {},
   "outputs": [
    {
     "name": "stdout",
     "output_type": "stream",
     "text": [
      "Primeiros 5 datapoints\n",
      " [[-0.75275929]\n",
      " [ 2.70428584]\n",
      " [ 1.39196365]\n",
      " [ 0.59195091]\n",
      " [-2.06388816]]\n",
      "Bin que ele foi alocado\n",
      " [[ 4]\n",
      " [10]\n",
      " [ 8]\n",
      " [ 6]\n",
      " [ 2]]\n"
     ]
    }
   ],
   "source": [
    "which_bin = np.digitize(X, bins = bins)\n",
    "print(f\"Primeiros 5 datapoints\\n {X[:5]}\")\n",
    "print(f\"Bin que ele foi alocado\\n {which_bin[:5]}\")"
   ]
  },
  {
   "cell_type": "markdown",
   "metadata": {},
   "source": [
    "Pronto! A feature única e contínua foi transformada em múltiplas features categóricas que mostram em qual bin o o valor foi alocado. Agora, podemos arrumar o dataset, adicionando as novas features usando o OneHotEncoder do scikit-learn:"
   ]
  },
  {
   "cell_type": "code",
   "execution_count": 14,
   "metadata": {},
   "outputs": [
    {
     "data": {
      "text/plain": [
       "array([[0., 0., 0., 1., 0., 0., 0., 0., 0., 0.],\n",
       "       [0., 0., 0., 0., 0., 0., 0., 0., 0., 1.],\n",
       "       [0., 0., 0., 0., 0., 0., 0., 1., 0., 0.],\n",
       "       [0., 0., 0., 0., 0., 1., 0., 0., 0., 0.],\n",
       "       [0., 1., 0., 0., 0., 0., 0., 0., 0., 0.]])"
      ]
     },
     "execution_count": 14,
     "metadata": {},
     "output_type": "execute_result"
    }
   ],
   "source": [
    "from sklearn.preprocessing import OneHotEncoder\n",
    "\n",
    "# o onehotencoder funciona de forma parecida ao get_dummies do pandas, mas aceita categorias em int\n",
    "encoder = OneHotEncoder(sparse = False)\n",
    "encoder.fit(which_bin)\n",
    "\n",
    "# criando o novo X\n",
    "X_binned = encoder.transform(which_bin)\n",
    "\n",
    "X_binned[:5]"
   ]
  },
  {
   "cell_type": "code",
   "execution_count": 15,
   "metadata": {},
   "outputs": [
    {
     "data": {
      "text/plain": [
       "<matplotlib.legend.Legend at 0x20f3fbc9520>"
      ]
     },
     "execution_count": 15,
     "metadata": {},
     "output_type": "execute_result"
    },
    {
     "data": {
      "image/png": "[encoded data removed]",
      "text/plain": [
       "<Figure size 432x288 with 1 Axes>"
      ]
     },
     "metadata": {
      "needs_background": "light"
     },
     "output_type": "display_data"
    }
   ],
   "source": [
    "line_binned = encoder.transform(np.digitize(line, bins=bins))\n",
    "\n",
    "dtreg = DecisionTreeRegressor(min_samples_split=3).fit(X_binned, y)\n",
    "plt.plot(line, dtreg.predict(line_binned), label=\"decision tree binned\")\n",
    "\n",
    "lreg = LinearRegression().fit(X_binned, y)\n",
    "plt.plot(line, lreg.predict(line_binned), label=\"linear regression binned\")\n",
    "\n",
    "plt.plot(X[:, 0], y, 'o', c='k')\n",
    "plt.vlines(bins, -3, 3, linewidth=1, alpha=.2)\n",
    "plt.ylabel(\"Regression output\")\n",
    "plt.xlabel(\"Input feature\")\n",
    "plt.legend(loc=\"best\")"
   ]
  },
  {
   "cell_type": "markdown",
   "metadata": {},
   "source": [
    "Após a aplicação do método, ambos os modelos obtiveram o mesmo resultado. Plotando a linha dos bins na figura, podemos ver que os resultados do modelo ficam bem de acordo com os bins.\n",
    "<br>\n",
    "\n",
    "Uitlizar o **binning** não tem efeitos beneficiais a modelos de árvore (uma vez que o algoritmo aprende quais são os melhores bins sozinho) e deve ser guardado para algoritmos lineares. Se existem motivos bons para o uso de um modelo linear ao invés de um baseado em árvore - como o tamanho do dataset, por exemplo - binning é uma forma interessante de aumentar o poder do modelo."
   ]
  },
  {
   "cell_type": "markdown",
   "metadata": {},
   "source": [
    "## Interações e Polinomiais\n",
    "\n",
    "Outra forma de enriquecer uma representação de features, principalmente para modelos lineares, é adicionar features de interação e/ou features polinomiais dos dados originais. \n",
    "<br>\n",
    "Para exemplificar, inicialmente eu vou combinar o X_binned criado acima com o X normal, criando assim um coeficiente angular para a linha criada pela linear regression. "
   ]
  },
  {
   "cell_type": "code",
   "execution_count": 16,
   "metadata": {},
   "outputs": [
    {
     "data": {
      "image/png": "[encoded data removed]",
      "text/plain": [
       "<Figure size 432x288 with 1 Axes>"
      ]
     },
     "metadata": {
      "needs_background": "light"
     },
     "output_type": "display_data"
    }
   ],
   "source": [
    "X_combined = np.hstack([X, X_binned])\n",
    "\n",
    "reg = LinearRegression().fit(X_combined, y)\n",
    "\n",
    "line_combined = np.hstack([line, line_binned])\n",
    "plt.plot(line, reg.predict(line_combined), label='linear regression combined')\n",
    "\n",
    "for bin in bins:\n",
    "    plt.plot([bin, bin], [-3, 3], ':', c='k');\n",
    "    plt.legend(loc=\"best\")\n",
    "    \n",
    "plt.ylabel(\"Regression output\")\n",
    "plt.xlabel(\"Input feature\")\n",
    "plt.plot(X[:, 0], y, 'o', c='k');"
   ]
  },
  {
   "cell_type": "markdown",
   "metadata": {},
   "source": [
    "No exexmplo acima, além de ter aprendido um coeficiente linear para cada bin, o modelo também aprendeu um coeficiente angular para a linha inteira. Uma forma de obter resultados ainda melhores é criando uma interação entre cada bin e o X original, criando, dessa forma, um coeficiente angular para cada um dos bins."
   ]
  },
  {
   "cell_type": "code",
   "execution_count": 17,
   "metadata": {},
   "outputs": [
    {
     "data": {
      "image/png": "[encoded data removed]",
      "text/plain": [
       "<Figure size 432x288 with 1 Axes>"
      ]
     },
     "metadata": {
      "needs_background": "light"
     },
     "output_type": "display_data"
    }
   ],
   "source": [
    "X_product = np.hstack([X_binned, X*X_binned])\n",
    "\n",
    "reg = LinearRegression().fit(X_product, y)\n",
    "\n",
    "line_product = np.hstack([line_binned, line * line_binned])\n",
    "plt.plot(line, reg.predict(line_product), label='linear regression combined')\n",
    "\n",
    "for bin in bins:\n",
    "    plt.plot([bin, bin], [-3, 3], ':', c='k');\n",
    "    plt.legend(loc=\"best\")\n",
    "    \n",
    "plt.ylabel(\"Regression output\")\n",
    "plt.xlabel(\"Input feature\")\n",
    "plt.plot(X[:, 0], y, 'o', c='k');"
   ]
  },
  {
   "cell_type": "markdown",
   "metadata": {},
   "source": [
    "Agora cada bin tem seu próprio coeficiente angular e linear, aumentando muito mais a **flexibilidade** do modelo ao dataset de treino. Além de aplicar interações ao binning, podemos utilizar **polinômios** das features originais. O próprio sklearn tem um método implementado no modulo de pré-processamento pronto para isso."
   ]
  },
  {
   "cell_type": "code",
   "execution_count": 18,
   "metadata": {},
   "outputs": [],
   "source": [
    "from sklearn.preprocessing import PolynomialFeatures\n",
    "\n",
    "# Vamos incluir polinomios até a décima potência\n",
    "poly = PolynomialFeatures(degree = 10)\n",
    "poly.fit(X)\n",
    "X_poly = poly.transform(X)"
   ]
  },
  {
   "cell_type": "code",
   "execution_count": 19,
   "metadata": {},
   "outputs": [
    {
     "name": "stdout",
     "output_type": "stream",
     "text": [
      "X:\n",
      "[[-0.75275929]\n",
      " [ 2.70428584]\n",
      " [ 1.39196365]\n",
      " [ 0.59195091]\n",
      " [-2.06388816]]\n",
      "\n",
      "\n",
      "X_poly:\n",
      "[[ 1.00000000e+00 -7.52759287e-01  5.66646544e-01 -4.26548448e-01\n",
      "   3.21088306e-01 -2.41702204e-01  1.81943579e-01 -1.36959719e-01\n",
      "   1.03097700e-01 -7.76077513e-02  5.84199555e-02]\n",
      " [ 1.00000000e+00  2.70428584e+00  7.31316190e+00  1.97768801e+01\n",
      "   5.34823369e+01  1.44631526e+02  3.91124988e+02  1.05771377e+03\n",
      "   2.86036036e+03  7.73523202e+03  2.09182784e+04]\n",
      " [ 1.00000000e+00  1.39196365e+00  1.93756281e+00  2.69701700e+00\n",
      "   3.75414962e+00  5.22563982e+00  7.27390068e+00  1.01250053e+01\n",
      "   1.40936394e+01  1.96178338e+01  2.73073115e+01]\n",
      " [ 1.00000000e+00  5.91950905e-01  3.50405874e-01  2.07423074e-01\n",
      "   1.22784277e-01  7.26822637e-02  4.30243318e-02  2.54682921e-02\n",
      "   1.50759786e-02  8.92423917e-03  5.28271146e-03]\n",
      " [ 1.00000000e+00 -2.06388816e+00  4.25963433e+00 -8.79140884e+00\n",
      "   1.81444846e+01 -3.74481869e+01  7.72888694e+01 -1.59515582e+02\n",
      "   3.29222321e+02 -6.79478050e+02  1.40236670e+03]]\n",
      "\n",
      "\n",
      "Features do X_poly: ['1', 'x0', 'x0^2', 'x0^3', 'x0^4', 'x0^5', 'x0^6', 'x0^7', 'x0^8', 'x0^9', 'x0^10']\n"
     ]
    }
   ],
   "source": [
    "print(\"X:\\n{}\\n\\n\".format(X[:5]))\n",
    "print(\"X_poly:\\n{}\\n\\n\".format(X_poly[:5]))\n",
    "print(f\"Features do X_poly: {poly.get_feature_names()}\")"
   ]
  },
  {
   "cell_type": "code",
   "execution_count": 20,
   "metadata": {
    "scrolled": true
   },
   "outputs": [
    {
     "data": {
      "text/plain": [
       "<matplotlib.legend.Legend at 0x20f3fc166a0>"
      ]
     },
     "execution_count": 20,
     "metadata": {},
     "output_type": "execute_result"
    },
    {
     "data": {
      "image/png": "[encoded data removed]",
      "text/plain": [
       "<Figure size 432x288 with 1 Axes>"
      ]
     },
     "metadata": {
      "needs_background": "light"
     },
     "output_type": "display_data"
    }
   ],
   "source": [
    "reg = LinearRegression().fit(X_poly, y)\n",
    "\n",
    "line_poly = poly.transform(line)\n",
    "plt.plot(line, reg.predict(line_poly), label='polynomial linear regression')\n",
    "plt.plot(X[:, 0], y, 'o', c='k')\n",
    "plt.ylabel(\"Regression output\")\n",
    "plt.xlabel(\"Input feature\")\n",
    "plt.legend(loc=\"best\")"
   ]
  },
  {
   "cell_type": "markdown",
   "metadata": {},
   "source": [
    "Dá pra perceber com facilidade que o modelo acaba ficando bem mais *smooth* sem a binarização e aplicando os polinômios. Ainda assim, polinômios de grau alto, como é o caso de uma potência na 10, tendem a se comportar de forma extrema com a falta de dados (ao exemplo do final do gráfico).\n",
    "<br>\n",
    "\n",
    "Como vimos no capítulo 2, o SVR ~~meio que~~ utiliza polinômios do dado original para fitar a melhor função ao dataset. Vamos ver como o resultado ficaria se utilizassemos ele no dataset original, sem a utilização de polinômios:"
   ]
  },
  {
   "cell_type": "code",
   "execution_count": 21,
   "metadata": {},
   "outputs": [
    {
     "data": {
      "text/plain": [
       "<matplotlib.legend.Legend at 0x20f3fcccd30>"
      ]
     },
     "execution_count": 21,
     "metadata": {},
     "output_type": "execute_result"
    },
    {
     "data": {
      "image/png": "[encoded data removed]",
      "text/plain": [
       "<Figure size 432x288 with 1 Axes>"
      ]
     },
     "metadata": {
      "needs_background": "light"
     },
     "output_type": "display_data"
    }
   ],
   "source": [
    "from sklearn.svm import SVR\n",
    "\n",
    "# vamos testar com dois coeficientes diferentes para o kernel\n",
    "for gamma in [1, 20]:\n",
    "    svr = SVR(gamma = gamma).fit(X, y)\n",
    "    plt.plot(line, svr.predict(line), label = f'SVR gamma = {gamma}')\n",
    "\n",
    "plt.plot(X[:, 0], y, 'o', c='k')\n",
    "plt.ylabel(\"Regression output\")\n",
    "plt.xlabel(\"Input feature\")\n",
    "plt.legend(loc=\"best\")"
   ]
  },
  {
   "cell_type": "markdown",
   "metadata": {},
   "source": [
    "Utilizando um modelo complexo, como o Kernel SVM (RBF), a função aprendida é similar (principalmente do gamma = 1) àquela obtida utilizando transformação polinômial. Saindo um pouco do dataset sintético, vamos utilizar as engenharias de feature aprendidas em um dataset verdadeiro."
   ]
  },
  {
   "cell_type": "code",
   "execution_count": 22,
   "metadata": {},
   "outputs": [
    {
     "name": "stdout",
     "output_type": "stream",
     "text": [
      "X_train.shape: (379, 13)\n",
      "X_train_poly.shape: (379, 105)\n"
     ]
    }
   ],
   "source": [
    "from sklearn.datasets import load_boston\n",
    "from sklearn.model_selection import train_test_split\n",
    "from sklearn.preprocessing import MinMaxScaler\n",
    "\n",
    "boston = load_boston()\n",
    "X_train, X_test, y_train, y_test = train_test_split(boston.data, boston.target, random_state = 0)\n",
    "\n",
    "# rescalonando os dados\n",
    "scaler = MinMaxScaler()\n",
    "X_train_scaled = scaler.fit_transform(X_train)\n",
    "X_test_scaled = scaler.transform(X_test)\n",
    "\n",
    "# aplicando a engenharia de features\n",
    "poly = PolynomialFeatures(degree=2).fit(X_train_scaled)\n",
    "X_train_poly = poly.transform(X_train_scaled)\n",
    "X_test_poly = poly.transform(X_test_scaled)\n",
    "\n",
    "print(f\"X_train.shape: {X_train.shape}\")\n",
    "print(f\"X_train_poly.shape: {X_train_poly.shape}\")"
   ]
  },
  {
   "cell_type": "markdown",
   "metadata": {},
   "source": [
    "Utilizando apenas degree = 2, um dataset de 13 features foi transformado em um de 105. Isso se deu porque o PolynomialFeatures cria interações entre as features já existentes (nesse caso, de no máximo uma featurex * featurey e a feature ao quadrado). Vamos usar o `ridge`, um modelo linear com regularização L2, para treinar o modelo e observar os resultados:"
   ]
  },
  {
   "cell_type": "code",
   "execution_count": 23,
   "metadata": {},
   "outputs": [
    {
     "name": "stdout",
     "output_type": "stream",
     "text": [
      "Score do Ridge sem interações polinomiais:0.6214583227921036\n",
      "Score do Ridge com interações polinomiais:0.7534782020980575\n"
     ]
    }
   ],
   "source": [
    "from sklearn.linear_model import Ridge\n",
    "\n",
    "ridge = Ridge().fit(X_train_scaled, y_train)\n",
    "print(f\"Score do Ridge sem interações polinomiais:{ridge.score(X_test_scaled, y_test)}\")\n",
    "\n",
    "ridge_poly = Ridge().fit(X_train_poly, y_train)\n",
    "print(f\"Score do Ridge com interações polinomiais:{ridge_poly.score(X_test_poly, y_test)}\")"
   ]
  },
  {
   "cell_type": "markdown",
   "metadata": {},
   "source": [
    "Deu pra ver uma melhora considerável quando trocamos o dataset. No entanto, isso não ocorre em modelos mais complexos, como em ensembles de trees."
   ]
  },
  {
   "cell_type": "code",
   "execution_count": 24,
   "metadata": {},
   "outputs": [
    {
     "name": "stdout",
     "output_type": "stream",
     "text": [
      "Score do RandomForestRegressor sem interações polinomiais:0.788430586309986\n",
      "Score do RandomForestRegressor com interações polinomiais:0.7759039711421384\n"
     ]
    }
   ],
   "source": [
    "from sklearn.ensemble import RandomForestRegressor\n",
    "\n",
    "rf = RandomForestRegressor().fit(X_train_scaled, y_train)\n",
    "print(f\"Score do RandomForestRegressor sem interações polinomiais:{rf.score(X_test_scaled, y_test)}\")\n",
    "\n",
    "rf_poly = RandomForestRegressor().fit(X_train_poly, y_train)\n",
    "print(f\"Score do RandomForestRegressor com interações polinomiais:{rf_poly.score(X_test_poly, y_test)}\")"
   ]
  },
  {
   "cell_type": "markdown",
   "metadata": {},
   "source": [
    "Pelo contrário! Além do score do RandomForest ter sido superior ao do Ridge sem a transformação, o uso dos polinomios e dos interativos inclusive fez o score piorar."
   ]
  },
  {
   "cell_type": "markdown",
   "metadata": {},
   "source": [
    "## Transformações Não-Lineares Univariadas"
   ]
  },
  {
   "cell_type": "markdown",
   "metadata": {},
   "source": [
    "Como visto nesse e nos capítulos passados, modelos lineares funcionam bem com algumas transformações de features. No geral, esses modelos se importam bastante com o escalonamento e a distribuição do dataset. \n",
    "<br>\n",
    "\n",
    "Quando alguma das features tem uma relação não linear com o y, pode ficar difícil pro modelo capturar o que você gostaria da feature em questão. Funções transformadoras como `log` e `exp` podem ser eficazes e eficientes na normalização de alguma feature. Para exemplificar, vamos criar um dataset de contagem (pense em algo do tipo \"quantas vezes o usuário X entrou hoje\") e aplicar uma transformação."
   ]
  },
  {
   "cell_type": "code",
   "execution_count": 25,
   "metadata": {},
   "outputs": [
    {
     "data": {
      "text/plain": [
       "Text(0.5, 0, 'Value')"
      ]
     },
     "execution_count": 25,
     "metadata": {},
     "output_type": "execute_result"
    },
    {
     "data": {
      "image/png": "[encoded data removed]",
      "text/plain": [
       "<Figure size 432x288 with 1 Axes>"
      ]
     },
     "metadata": {
      "needs_background": "light"
     },
     "output_type": "display_data"
    }
   ],
   "source": [
    "rnd = np.random.RandomState(2)\n",
    "X_org = rnd.normal(size=(1000, 3))\n",
    "w = rnd.normal(size=3)\n",
    "\n",
    "X = rnd.poisson(10 * np.exp(X_org))\n",
    "y = np.dot(X_org, w)\n",
    "\n",
    "bins = np.bincount(X[:, 0])\n",
    "plt.bar(height = range(len(bins)), x = bins)\n",
    "plt.ylabel(\"Number of appearances\")\n",
    "plt.xlabel(\"Value\")"
   ]
  },
  {
   "cell_type": "markdown",
   "metadata": {},
   "source": [
    "Distribuições desse tipo são muito comuns mas modelos lineares não lidam muito bem. Vamos aplicar esse dataset em um modelo linear:"
   ]
  },
  {
   "cell_type": "code",
   "execution_count": 26,
   "metadata": {},
   "outputs": [
    {
     "name": "stdout",
     "output_type": "stream",
     "text": [
      "Test score: 0.549\n"
     ]
    }
   ],
   "source": [
    "from sklearn.linear_model import Ridge\n",
    "\n",
    "X_train, X_test, y_train, y_test = train_test_split(X, y, random_state=0)\n",
    "score = Ridge().fit(X_train, y_train).score(X_test, y_test)\n",
    "print(f\"Test score: {score:.3f}\")"
   ]
  },
  {
   "cell_type": "markdown",
   "metadata": {},
   "source": [
    "O score não é muito bom, com R² aproximando 0.55. O Ridge não foi capaz de capturar a relação entre o x e o y. \n",
    "\n",
    "Se utilizarmos uma transformação logarítimica, que aproxima o dataset da curva normal, será possível ver uma melhora expressiva: "
   ]
  },
  {
   "cell_type": "code",
   "execution_count": 27,
   "metadata": {},
   "outputs": [
    {
     "data": {
      "text/plain": [
       "Text(0.5, 0, 'Value')"
      ]
     },
     "execution_count": 27,
     "metadata": {},
     "output_type": "execute_result"
    },
    {
     "data": {
      "image/png": "[encoded data removed]",
      "text/plain": [
       "<Figure size 432x288 with 1 Axes>"
      ]
     },
     "metadata": {
      "needs_background": "light"
     },
     "output_type": "display_data"
    }
   ],
   "source": [
    "# + 1 devido log\n",
    "\n",
    "X_train_log = np.log(X_train + 1)\n",
    "X_test_log = np.log(X_test + 1)\n",
    "\n",
    "# Dist mais próxima da normalização\n",
    "\n",
    "plt.hist(np.log(X_train_log[:, 0] + 1), bins=25, color='gray')\n",
    "plt.ylabel(\"Number of appearances\")\n",
    "plt.xlabel(\"Value\")"
   ]
  },
  {
   "cell_type": "code",
   "execution_count": 28,
   "metadata": {},
   "outputs": [
    {
     "name": "stdout",
     "output_type": "stream",
     "text": [
      "Test score: 0.881\n"
     ]
    }
   ],
   "source": [
    "score = Ridge().fit(X_train_log, y_train).score(X_test_log, y_test)\n",
    "\n",
    "print(f\"Test score: {score:.3f}\")"
   ]
  },
  {
   "cell_type": "markdown",
   "metadata": {},
   "source": [
    "Como deu pra ver, modelos lineares e outros mais simples (como naive Bayes) se aproveitam muito de transformações logarítimicas, polinomiais e também de binning. Novamente, isso não necessariamente ocorrerá em ensembles, uma vez que eles são capazes de lidar com esse tipo de dado e descobrir interações através do algoritmo padrão - vale a pena testar, mas normalmente o resultado é inferior ao dataset padrão.\n",
    "\n",
    "Modelos como SVMs, NNs e k-NN podem se beneficiar também dessas interações polinomiais e transformações, mas geralmente não tanto quanto os modelos lineares tradicionais."
   ]
  }
 ],
 "metadata": {
  "kernelspec": {
   "display_name": "Python 3",
   "language": "python",
   "name": "python3"
  },
  "language_info": {
   "codemirror_mode": {
    "name": "ipython",
    "version": 3
   },
   "file_extension": ".py",
   "mimetype": "text/x-python",
   "name": "python",
   "nbconvert_exporter": "python",
   "pygments_lexer": "ipython3",
   "version": "3.8.3"
  },
  "varInspector": {
   "cols": {
    "lenName": 16,
    "lenType": 16,
    "lenVar": 40
   },
   "kernels_config": {
    "python": {
     "delete_cmd_postfix": "",
     "delete_cmd_prefix": "del ",
     "library": "var_list.py",
     "varRefreshCmd": "print(var_dic_list())"
    },
    "r": {
     "delete_cmd_postfix": ") ",
     "delete_cmd_prefix": "rm(",
     "library": "var_list.r",
     "varRefreshCmd": "cat(var_dic_list()) "
    }
   },
   "oldHeight": 510.98978,
   "position": {
    "height": "40px",
    "left": "1863.33px",
    "right": "20px",
    "top": "120px",
    "width": "250px"
   },
   "types_to_exclude": [
    "module",
    "function",
    "builtin_function_or_method",
    "instance",
    "_Feature"
   ],
   "varInspector_section_display": "none",
   "window_display": false
  }
 },
 "nbformat": 4,
 "nbformat_minor": 4
}
