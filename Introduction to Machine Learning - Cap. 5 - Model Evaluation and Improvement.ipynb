{
 "cells": [
  {
   "cell_type": "markdown",
   "metadata": {},
   "source": [
    "# Avaliação e Melhoria de Modelos\n",
    "\n",
    "Uma vez que já finalizamos os fundamentos de algoritmos supervisionados e não-supervisionados, além de ter explorado uma variedade enorme de algoritmos de ML, vamos agora ver como avaliamos as nossas criações, observando seus resultados e selecionando melhores parâmetros.\n",
    "<br>\n",
    "\n",
    "Até o momento, nossa validação se reteve à dividir o dataset em `train` e `test` e observar o resultado no test - enquanto treinavamos no train. Vamos relembrar:"
   ]
  },
  {
   "cell_type": "code",
   "execution_count": 1,
   "metadata": {},
   "outputs": [],
   "source": [
    "import pandas as pd\n",
    "import numpy as np\n",
    "import matplotlib.pyplot as plt\n",
    "import mglearn\n",
    "import seaborn as sns\n",
    "from sklearn.datasets import make_blobs\n",
    "from sklearn.linear_model import LogisticRegression\n",
    "from sklearn.model_selection import train_test_split\n",
    "\n",
    "sns.set_context('talk')"
   ]
  },
  {
   "cell_type": "code",
   "execution_count": 2,
   "metadata": {},
   "outputs": [
    {
     "name": "stdout",
     "output_type": "stream",
     "text": [
      "Test set score: 0.88\n"
     ]
    }
   ],
   "source": [
    "# Criando um set sintético\n",
    "X, y = make_blobs(random_state=0)\n",
    "\n",
    "X_train, X_test, y_train, y_test = train_test_split(X, y, random_state=0)\n",
    "\n",
    "# instanciando e treinando o logreg\n",
    "logreg = LogisticRegression().fit(X_train, y_train)\n",
    "\n",
    "# Avaliando o modelo no test set\n",
    "print(f\"Test set score: {logreg.score(X_test, y_test):.2f}\")"
   ]
  },
  {
   "cell_type": "markdown",
   "metadata": {},
   "source": [
    "Vale relembrar também o motivo dessa divisão. Uma vez apenas treinado em um dataset, nosso modelo estará propenso ao **overfitting**. Ao testar em um set que ainda não foi visto pelo modelo, testamos sua capacidade de generalização para novos casos. \n",
    "<br>\n",
    "\n",
    "Nesse capítulo, estudaremos **Cross-Validation**, um método mais robusto de testar generalização, outras **métricas de avaliação** além da R² e acurácia e, por fim, o **Grid Search**, um método de ajuste de hiperparâmetros. \n",
    "\n",
    "## Cross-Validation\n",
    "\n",
    "O **Cross-Validation**, tabém conhecido apenas como CV ou validação cruzada em PT-BR, é um método estatístico de avaliação de generalização que é mais estável e sólido que o `train_test_split`. Normalmente, é utilizado o `k-fold cross-validation`, que se dá, inicialmente, dividindo o dataset em `k` partes. Em seguida, o modelo é treinado nas partes 2, 3, 4, ..., k e validado na parte 1. O processo se repete para a parte 2, com o modelo sendo treinando na 1, 3, ..., k e validado na 2 - assim por diante até chegar ao k.\n",
    "\n",
    "Com a finalização do processo, temos k scores diferentes. Abaixo, uma figura que ilustra um 5-fold cross-validation:"
   ]
  },
  {
   "cell_type": "code",
   "execution_count": 3,
   "metadata": {},
   "outputs": [
    {
     "data": {
      "image/png": "[encoded data removed]",
      "text/plain": [
       "<Figure size 864x144 with 1 Axes>"
      ]
     },
     "metadata": {
      "needs_background": "light"
     },
     "output_type": "display_data"
    }
   ],
   "source": [
    "mglearn.plots.plot_cross_validation()"
   ]
  },
  {
   "cell_type": "markdown",
   "metadata": {},
   "source": [
    "O cross-validation é implementado no `scikit-learn` por padrão, no módulo `model_selection`. Como parâmetros, ele toma o modelo, o dataset de treino, as labels/resultados verdadeiros e `cv` para o número de folds - por padrão, é igual a 5."
   ]
  },
  {
   "cell_type": "code",
   "execution_count": 4,
   "metadata": {},
   "outputs": [
    {
     "name": "stdout",
     "output_type": "stream",
     "text": [
      "Cross-validation scores: [0.96666667 1.         0.93333333 0.96666667 1.        ]\n"
     ]
    }
   ],
   "source": [
    "from sklearn.model_selection import cross_val_score\n",
    "from sklearn.datasets import load_iris\n",
    "\n",
    "# Criando um set iris\n",
    "iris = load_iris()\n",
    "\n",
    "# Instancia o Log Reg\n",
    "logreg = LogisticRegression(max_iter = 2000)\n",
    "\n",
    "scores = cross_val_score(logreg, iris.data, iris.target)\n",
    "print(f\"Cross-validation scores: {scores}\")"
   ]
  },
  {
   "cell_type": "code",
   "execution_count": 5,
   "metadata": {},
   "outputs": [
    {
     "name": "stdout",
     "output_type": "stream",
     "text": [
      "Cross-validation scores: [1.         0.93333333 1.         1.         0.93333333 0.93333333\n",
      " 0.93333333 1.         1.         1.        ]\n"
     ]
    }
   ],
   "source": [
    "scores = cross_val_score(logreg, iris.data, iris.target, cv = 10)\n",
    "print(f\"Cross-validation scores: {scores}\")"
   ]
  },
  {
   "cell_type": "markdown",
   "metadata": {},
   "source": [
    "Como é possível ver acima, há uma certa disparidade entre os resultados - em alguns folds, a acurácia chega em 100% e em outros, próxima de 90%. Isso pode ser tanto devido ao número baixo de observações quanto a necessidade do modelo de visualizar alguma certa parte do dataset para fazer boas previsões.\n",
    "\n",
    "Para resumir, podemos tirar a média desse score:"
   ]
  },
  {
   "cell_type": "code",
   "execution_count": 6,
   "metadata": {},
   "outputs": [
    {
     "name": "stdout",
     "output_type": "stream",
     "text": [
      "Cross-validation mean score: 0.97\n"
     ]
    }
   ],
   "source": [
    "print(f\"Cross-validation mean score: {np.mean(scores):.2f}\")"
   ]
  },
  {
   "cell_type": "markdown",
   "metadata": {},
   "source": [
    "Vamos pontuar os benefícios e a maior desvantagem de utilizar o CV.\n",
    "\n",
    "* **Benefícios**:\n",
    "    * Sem chance de sermos azarados ou sortudos devido à parte aleatória do `train_test_split`\n",
    "    * O modelo precisa ir bem em todas as partes do dataset para ir bem\n",
    "    * Utilizamos mais dados para o treino, o que aproxima o score do modelo final\n",
    "    * Multiplos splits nos mostram o quão o modelo é sensível para novos dados/dados diferentes\n",
    "\n",
    "* **Desvantagem**:\n",
    "    * Aumento no custo computacional (até k vezes mais modelos rodados).\n",
    "    \n",
    "### Outras opções de Cross-Validation\n",
    "\n",
    "Vimos aqui que o CV separa o dataset de forma ordenada, da forma que o dataset é dado (fig. 1). Isso nem sempre é uma boa ideia caso os dados estejam ordenados de alguma forma ou caso algumas das labels em um problema de classificação estejam em minoria. Para resolver isso, podemos utilizar o **Stratified k-Fold CV** que, assim como no `train_test_split`, separa o dataset levando em consideração a porcentagem de cada label."
   ]
  },
  {
   "cell_type": "code",
   "execution_count": 7,
   "metadata": {},
   "outputs": [
    {
     "data": {
      "image/png": "[encoded data removed]",
      "text/plain": [
       "<Figure size 864x360 with 2 Axes>"
      ]
     },
     "metadata": {
      "needs_background": "light"
     },
     "output_type": "display_data"
    }
   ],
   "source": [
    "mglearn.plots.plot_stratified_cross_validation()"
   ]
  },
  {
   "cell_type": "code",
   "execution_count": 8,
   "metadata": {},
   "outputs": [
    {
     "name": "stdout",
     "output_type": "stream",
     "text": [
      "Cross-validation scores: [1.         1.         1.         0.93333333 0.93333333 0.93333333\n",
      " 1.         1.         0.93333333 0.93333333]\n",
      "Cross-validation mean score: 0.97\n"
     ]
    }
   ],
   "source": [
    "from sklearn.model_selection import StratifiedKFold\n",
    "\n",
    "# Instancia o Log Reg\n",
    "logreg = LogisticRegression(max_iter=2000)\n",
    "\n",
    "# Instancia o SKF\n",
    "skf = StratifiedKFold(n_splits=10, shuffle=True, random_state=42)\n",
    "\n",
    "scores = cross_val_score(logreg, iris.data, iris.target, cv=skf)\n",
    "print(f\"Cross-validation scores: {scores}\")\n",
    "\n",
    "print(f\"Cross-validation mean score: {np.mean(scores):.2f}\")"
   ]
  },
  {
   "cell_type": "markdown",
   "metadata": {},
   "source": [
    "É uma prática extremamente comum utilizar o Stratified k-Fold CV para problemas de classificação, quase que padrão. Já em modelos de regressão, o mais comum é utilizar o k-Fold padrão.\n",
    "\n",
    "Além do Stratified k-Fold e do k-Fold, temos também opções como o **Leave-One-Out**, **Shuffle-Split** e **Group K-Fold**. O Leave-One-Out é basicamente o k-Fold com k = número de observações. Pode acabar sendo interessante para datasets pequenos, mas em temos de Big Data, se torna absurdamente custoso computacionalmente. "
   ]
  },
  {
   "cell_type": "code",
   "execution_count": 9,
   "metadata": {},
   "outputs": [
    {
     "name": "stdout",
     "output_type": "stream",
     "text": [
      "Number of cv iterations:  150\n",
      "Mean accuracy: 0.97\n"
     ]
    }
   ],
   "source": [
    "from sklearn.model_selection import LeaveOneOut\n",
    "\n",
    "# Instancia o Log Reg\n",
    "logreg = LogisticRegression(max_iter=2000)\n",
    "\n",
    "# Instancia o Leave One Out\n",
    "loo = LeaveOneOut()\n",
    "\n",
    "scores = cross_val_score(logreg, iris.data, iris.target, cv=loo)\n",
    "\n",
    "print(\"Number of cv iterations: \", len(scores))\n",
    "print(f\"Mean accuracy: {scores.mean():.2f}\")"
   ]
  },
  {
   "cell_type": "markdown",
   "metadata": {},
   "source": [
    "O **Shuffle-Split** oferece maior controle no tamanho dos folds, permitindo que seja escolhido o número de splits e a porcentagem que vai para cada parte - treino e teste."
   ]
  },
  {
   "cell_type": "code",
   "execution_count": 10,
   "metadata": {},
   "outputs": [
    {
     "data": {
      "image/png": "[encoded data removed]",
      "text/plain": [
       "<Figure size 720x144 with 1 Axes>"
      ]
     },
     "metadata": {
      "needs_background": "light"
     },
     "output_type": "display_data"
    }
   ],
   "source": [
    "mglearn.plots.plot_shuffle_split()"
   ]
  },
  {
   "cell_type": "code",
   "execution_count": 11,
   "metadata": {},
   "outputs": [
    {
     "name": "stdout",
     "output_type": "stream",
     "text": [
      "Number of cv iterations:  10\n",
      "Mean accuracy: 0.96\n"
     ]
    }
   ],
   "source": [
    "from sklearn.model_selection import ShuffleSplit\n",
    "\n",
    "# Instancia o Log Reg\n",
    "logreg = LogisticRegression(max_iter=2000)\n",
    "\n",
    "# Instancia o Leave One Out\n",
    "shuffle_split = ShuffleSplit(test_size=.5, train_size=.5, n_splits=10)\n",
    "\n",
    "scores = cross_val_score(logreg, iris.data, iris.target, cv=shuffle_split)\n",
    "\n",
    "print(\"Number of cv iterations: \", len(scores))\n",
    "print(f\"Mean accuracy: {scores.mean():.2f}\")"
   ]
  },
  {
   "cell_type": "markdown",
   "metadata": {},
   "source": [
    "Uma característica interessante do Shuffle-Split é que a soma da parte do treino e do teste não precisa ser igual a 1, permitindo subsampling para facilitar a experimentação em datasets grandes.\n",
    "<br>\n",
    "\n",
    "Por último, o **GroupKFold** é utilizado quando temos grupos nos dados que são relacionados. Por exemplo, se quisermos criar um modelo que detecte uma expressão facial e temos várias fotos de cada pessoa no dataset. O modelo identificará com maior facilidade expressões de pessoas que ele já viu, ou seja, que já estavam no set de treino. \n",
    "\n",
    "A ideia é basicamente o oposto do Stratified - treinamos em um ou mais grupos e buscamos pela generalização em grupos ainda não vistos."
   ]
  },
  {
   "cell_type": "code",
   "execution_count": 12,
   "metadata": {},
   "outputs": [
    {
     "data": {
      "image/png": "[encoded data removed]",
      "text/plain": [
       "<Figure size 720x144 with 1 Axes>"
      ]
     },
     "metadata": {
      "needs_background": "light"
     },
     "output_type": "display_data"
    }
   ],
   "source": [
    "mglearn.plots.plot_group_kfold()"
   ]
  },
  {
   "cell_type": "code",
   "execution_count": 13,
   "metadata": {},
   "outputs": [
    {
     "name": "stdout",
     "output_type": "stream",
     "text": [
      "Cross-validation scores:\n",
      "[0.75       0.66666667 0.66666667 1.        ]\n"
     ]
    }
   ],
   "source": [
    "from sklearn.model_selection import GroupKFold\n",
    "\n",
    "# Criando um set sintético\n",
    "\n",
    "X, y = make_blobs(n_samples=12, random_state=0)\n",
    "\n",
    "# os primeirs 3 pertencem a um grupo, depois os próximos quatro, os próximos 2 etc.\n",
    "\n",
    "groups = [0, 0, 0, 1, 1, 1, 1, 2, 2, 3, 3, 3]\n",
    "scores = cross_val_score(logreg, X, y, groups, cv=GroupKFold(n_splits=4))\n",
    "\n",
    "print(f\"Cross-validation scores:\\n{scores}\")"
   ]
  },
  {
   "attachments": {
    "image.png": {
     "image/png": "[encoded data removed]"
    }
   },
   "cell_type": "markdown",
   "metadata": {},
   "source": [
    "Existem outras formas e estratégias de realizar a validação cruxada no scikit-learn - elas estão presentes [nessa parte da documentação](https://scikit-learn.org/stable/modules/cross_validation.html). No entanto, as que vimos nesse notebook são as mais utilizadas! \n",
    "<br>\n",
    "\n",
    "## Grid Search\n",
    "\n",
    "Uma vez sabendo como avaliar a generalização do modelo e conhecendo os hiperparâmetros do algoritmo utilizado ([ver capítulo 2](https://github.com/nicolasbuen/introduction_to_ml)), está na hora de melhorar a perfomance do modelo ajustando eles.\n",
    "<br>\n",
    "\n",
    "Uma das formas mais comuns - e incluídas por padrão no scikit-learn - é o *grid search*, que basicamente testa todos as combinações possíveis dos parâmetros interessados. Se quisessemos procurar os melhores valores para os hiperparametros do SVC c/ kernel RBF: \n",
    "\n",
    "![image.png](attachment:image.png)\n",
    "\n",
    "A implementação correta da hiperparametrização deve dividir o dataset em 3:"
   ]
  },
  {
   "cell_type": "code",
   "execution_count": 14,
   "metadata": {},
   "outputs": [
    {
     "data": {
      "image/png": "[encoded data removed]",
      "text/plain": [
       "<Figure size 1080x72 with 1 Axes>"
      ]
     },
     "metadata": {
      "needs_background": "light"
     },
     "output_type": "display_data"
    }
   ],
   "source": [
    "mglearn.plots.plot_threefold_split()"
   ]
  },
  {
   "cell_type": "markdown",
   "metadata": {},
   "source": [
    "Dessa forma, evitamos overfitting apenas no set de treino, podendo testar a capacidade de generalização em um set nunca visto antes.\n"
   ]
  },
  {
   "cell_type": "code",
   "execution_count": 15,
   "metadata": {},
   "outputs": [
    {
     "name": "stdout",
     "output_type": "stream",
     "text": [
      "Size of training set: 84,\n",
      "\n",
      "size of validation set: 28,\n",
      "size of test set: 38\n",
      "\n",
      "Best score on validation set: 0.96\n",
      "Best parameters: {'C': 10, 'gamma': 0.001}\n",
      "\n",
      "Test set score with best parameters: 0.92\n"
     ]
    }
   ],
   "source": [
    "from sklearn.svm import SVC\n",
    "\n",
    "# separar os dados em 2 sets\n",
    "X_trainval, X_test, y_trainval, y_test = train_test_split(iris.data,\n",
    "                                                          iris.target,\n",
    "                                                          random_state=0)\n",
    "\n",
    "# sseparar o trainval em 2\n",
    "X_train, X_valid, y_train, y_valid = train_test_split(X_trainval, y_trainval,\n",
    "                                                      random_state=1)\n",
    "\n",
    "print(f\"\"\"Size of training set: {X_train.shape[0]},\n",
    "\\nsize of validation set: {X_valid.shape[0]},\n",
    "size of test set: {X_test.shape[0]}\"\"\")\n",
    "\n",
    "best_score = 0\n",
    "\n",
    "# implmementando o gs manualmente\n",
    "for gamma in [0.001, 0.01, 0.1, 1, 10, 100]:\n",
    "    for C in [0.001, 0.01, 0.1, 1, 10, 100]:\n",
    "        \n",
    "# instancia o SVC\n",
    "        svm = SVC(gamma=gamma, C=C)\n",
    "        svm.fit(X_train, y_train)\n",
    "        \n",
    "        # avalia o svc\n",
    "        score = svm.score(X_valid, y_valid)\n",
    "        \n",
    "        # se score >, atualiza os melhores parametros e score \n",
    "        if score > best_score:\n",
    "            best_score = score\n",
    "            best_parameters = {'C': C, 'gamma': gamma}\n",
    "            \n",
    "# treina o modelo no trainval com os melhores parametros e testa\n",
    "svm = SVC(**best_parameters)\n",
    "svm.fit(X_trainval, y_trainval)\n",
    "\n",
    "test_score = svm.score(X_test, y_test)\n",
    "print(f\"\\nBest score on validation set: {best_score:.2f}\".format(best_score))\n",
    "print(f\"Best parameters: {best_parameters}\")\n",
    "print(f\"\\nTest set score with best parameters: {test_score:.2f}\")"
   ]
  },
  {
   "cell_type": "markdown",
   "metadata": {},
   "source": [
    "Conseguimos um score de 0.96 no set de validação e 0.92 no de teste, mesmo que o último modelo tenha sido treinado com mais dados. Isso ocorre porque os parâmetros foram definidos de acordo com o teste de validação. \n",
    "<br>\n",
    "\n",
    "Para aplicar Machine Learning em problemas reais e práticos, devemos tomar cuidado com qualquer \"vazamento\" de dado em um set de teste, seja a hiperparametrização ou até decisões baseadas na exploração dos dados (EDA). Somente assim teremos um resultado mais realista sobre o desempenho real do modelo.\n",
    "\n",
    "### Grid Search c/ CV\n",
    "\n",
    "O problema visto antes nesse notebook durante a discussão da validação cruzada continua aqui - essa hiperparametrização acaba sendo sensível a forma que o dataset está ordenado. Ao invés de treinar e validar apenas em um set, podemos fazer isso em CV. "
   ]
  },
  {
   "cell_type": "code",
   "execution_count": 16,
   "metadata": {},
   "outputs": [
    {
     "name": "stdout",
     "output_type": "stream",
     "text": [
      "\n",
      "Best score on validation set: 0.97\n",
      "Best parameters: {'C': 10, 'gamma': 0.1}\n",
      "\n",
      "Test set score with best parameters: 0.97\n"
     ]
    }
   ],
   "source": [
    "for gamma in [0.001, 0.01, 0.1, 1, 10, 100]:\n",
    "    for C in [0.001, 0.01, 0.1, 1, 10, 100]:\n",
    "    \n",
    "        # instancia o cv com os parametros\n",
    "        svm = SVC(gamma=gamma, C=C)\n",
    "\n",
    "        # avalia no cv\n",
    "        scores = cross_val_score(svm, X_trainval, y_trainval, cv=5)\n",
    "\n",
    "        # calcula a media \n",
    "        score = np.mean(scores)\n",
    "\n",
    "        # se score >, atualiza os melhores parametros e score \n",
    "        if score > best_score:\n",
    "            best_score = score\n",
    "            best_parameters = {'C': C, 'gamma': gamma}\n",
    "        \n",
    "# treina o modelo no trainval com os melhores parametros e testa\n",
    "svm = SVC(**best_parameters)\n",
    "svm.fit(X_trainval, y_trainval)\n",
    "\n",
    "test_score = svm.score(X_test, y_test)\n",
    "\n",
    "print(f\"\\nBest score on validation set: {best_score:.2f}\".format(best_score))\n",
    "print(f\"Best parameters: {best_parameters}\")\n",
    "print(f\"\\nTest set score with best parameters: {test_score:.2f}\")"
   ]
  },
  {
   "cell_type": "markdown",
   "metadata": {},
   "source": [
    "Utilizar o CV para a escolha dos hiperparametros resultou em um modelo mais generalizavel - no entanto, multiplicamos em 5 o número de iterações e consequentemente, o custo computacional dessa hiperparametrização.\n",
    "<br>\n",
    "\n",
    "Como o Grid Search em conjunto com o CV é uma task comum de se realizar, o scikit-learn oferece ele em forma de uma classe - `GridSearchCV()`, que leva como argumentos o grid de hiperparâmetros, o modelo e o número de splits (ou o método do split) do CV. "
   ]
  },
  {
   "cell_type": "code",
   "execution_count": 17,
   "metadata": {},
   "outputs": [
    {
     "name": "stdout",
     "output_type": "stream",
     "text": [
      "Test set score: 0.97\n",
      "Best parameters: {'C': 10, 'gamma': 0.1}\n"
     ]
    }
   ],
   "source": [
    "param_grid = {'C': [0.001, 0.01, 0.1, 1, 10, 100],\n",
    "              'gamma': [0.001, 0.01, 0.1, 1, 10, 100]}\n",
    "\n",
    "from sklearn.model_selection import GridSearchCV\n",
    "\n",
    "grid_search = GridSearchCV(SVC(), param_grid, cv=5)\n",
    "\n",
    "X_train, X_test, y_train, y_test = train_test_split(iris.data,\n",
    "                                                    iris.target,\n",
    "                                                    random_state=0)\n",
    "grid_search.fit(X_train, y_train)\n",
    "\n",
    "print(f\"Test set score: {grid_search.score(X_test, y_test):.2f}\")\n",
    "print(f\"Best parameters: {grid_search.best_params_}\")"
   ]
  },
  {
   "cell_type": "markdown",
   "metadata": {},
   "source": [
    "Como esperado, o resultado é o mesmo pro score e pros parâmetros escolhidos. Podemos também acessar o modelo completo utilizando o atributo `.best_estimator_`"
   ]
  },
  {
   "cell_type": "code",
   "execution_count": 18,
   "metadata": {},
   "outputs": [
    {
     "data": {
      "text/plain": [
       "SVC(C=10, break_ties=False, cache_size=200, class_weight=None, coef0=0.0,\n",
       "    decision_function_shape='ovr', degree=3, gamma=0.1, kernel='rbf',\n",
       "    max_iter=-1, probability=False, random_state=None, shrinking=True,\n",
       "    tol=0.001, verbose=False)"
      ]
     },
     "execution_count": 18,
     "metadata": {},
     "output_type": "execute_result"
    }
   ],
   "source": [
    "grid_search.best_estimator_"
   ]
  },
  {
   "cell_type": "markdown",
   "metadata": {},
   "source": [
    "O GridSearchCV também permite uma análise mais aprofundada dos resultados de cada hiperparâmetro. Isso é interessante uma vez que um GridSearch extenso pode ser bem custoso computacionalmente - ao achar um range de parâmetros melhores, podemos recriar um Grid mais focado num range menor, mas mais expandido."
   ]
  },
  {
   "cell_type": "code",
   "execution_count": 19,
   "metadata": {
    "scrolled": false
   },
   "outputs": [
    {
     "data": {
      "text/html": [
       "<div>\n",
       "<style scoped>\n",
       "    .dataframe tbody tr th:only-of-type {\n",
       "        vertical-align: middle;\n",
       "    }\n",
       "\n",
       "    .dataframe tbody tr th {\n",
       "        vertical-align: top;\n",
       "    }\n",
       "\n",
       "    .dataframe thead th {\n",
       "        text-align: right;\n",
       "    }\n",
       "</style>\n",
       "<table border=\"1\" class=\"dataframe\">\n",
       "  <thead>\n",
       "    <tr style=\"text-align: right;\">\n",
       "      <th></th>\n",
       "      <th>mean_fit_time</th>\n",
       "      <th>std_fit_time</th>\n",
       "      <th>mean_score_time</th>\n",
       "      <th>std_score_time</th>\n",
       "      <th>param_C</th>\n",
       "      <th>param_gamma</th>\n",
       "      <th>params</th>\n",
       "      <th>split0_test_score</th>\n",
       "      <th>split1_test_score</th>\n",
       "      <th>split2_test_score</th>\n",
       "      <th>split3_test_score</th>\n",
       "      <th>split4_test_score</th>\n",
       "      <th>mean_test_score</th>\n",
       "      <th>std_test_score</th>\n",
       "      <th>rank_test_score</th>\n",
       "    </tr>\n",
       "  </thead>\n",
       "  <tbody>\n",
       "    <tr>\n",
       "      <th>0</th>\n",
       "      <td>0.0004</td>\n",
       "      <td>0.00049</td>\n",
       "      <td>0.0004</td>\n",
       "      <td>0.00049</td>\n",
       "      <td>0.001</td>\n",
       "      <td>0.001</td>\n",
       "      <td>{'C': 0.001, 'gamma': 0.001}</td>\n",
       "      <td>0.347826</td>\n",
       "      <td>0.347826</td>\n",
       "      <td>0.363636</td>\n",
       "      <td>0.363636</td>\n",
       "      <td>0.409091</td>\n",
       "      <td>0.366403</td>\n",
       "      <td>0.022485</td>\n",
       "      <td>22</td>\n",
       "    </tr>\n",
       "    <tr>\n",
       "      <th>1</th>\n",
       "      <td>0.0004</td>\n",
       "      <td>0.00049</td>\n",
       "      <td>0.0000</td>\n",
       "      <td>0.00000</td>\n",
       "      <td>0.001</td>\n",
       "      <td>0.01</td>\n",
       "      <td>{'C': 0.001, 'gamma': 0.01}</td>\n",
       "      <td>0.347826</td>\n",
       "      <td>0.347826</td>\n",
       "      <td>0.363636</td>\n",
       "      <td>0.363636</td>\n",
       "      <td>0.409091</td>\n",
       "      <td>0.366403</td>\n",
       "      <td>0.022485</td>\n",
       "      <td>22</td>\n",
       "    </tr>\n",
       "    <tr>\n",
       "      <th>2</th>\n",
       "      <td>0.0004</td>\n",
       "      <td>0.00049</td>\n",
       "      <td>0.0000</td>\n",
       "      <td>0.00000</td>\n",
       "      <td>0.001</td>\n",
       "      <td>0.1</td>\n",
       "      <td>{'C': 0.001, 'gamma': 0.1}</td>\n",
       "      <td>0.347826</td>\n",
       "      <td>0.347826</td>\n",
       "      <td>0.363636</td>\n",
       "      <td>0.363636</td>\n",
       "      <td>0.409091</td>\n",
       "      <td>0.366403</td>\n",
       "      <td>0.022485</td>\n",
       "      <td>22</td>\n",
       "    </tr>\n",
       "    <tr>\n",
       "      <th>3</th>\n",
       "      <td>0.0002</td>\n",
       "      <td>0.00040</td>\n",
       "      <td>0.0002</td>\n",
       "      <td>0.00040</td>\n",
       "      <td>0.001</td>\n",
       "      <td>1</td>\n",
       "      <td>{'C': 0.001, 'gamma': 1}</td>\n",
       "      <td>0.347826</td>\n",
       "      <td>0.347826</td>\n",
       "      <td>0.363636</td>\n",
       "      <td>0.363636</td>\n",
       "      <td>0.409091</td>\n",
       "      <td>0.366403</td>\n",
       "      <td>0.022485</td>\n",
       "      <td>22</td>\n",
       "    </tr>\n",
       "    <tr>\n",
       "      <th>4</th>\n",
       "      <td>0.0002</td>\n",
       "      <td>0.00040</td>\n",
       "      <td>0.0002</td>\n",
       "      <td>0.00040</td>\n",
       "      <td>0.001</td>\n",
       "      <td>10</td>\n",
       "      <td>{'C': 0.001, 'gamma': 10}</td>\n",
       "      <td>0.347826</td>\n",
       "      <td>0.347826</td>\n",
       "      <td>0.363636</td>\n",
       "      <td>0.363636</td>\n",
       "      <td>0.409091</td>\n",
       "      <td>0.366403</td>\n",
       "      <td>0.022485</td>\n",
       "      <td>22</td>\n",
       "    </tr>\n",
       "    <tr>\n",
       "      <th>5</th>\n",
       "      <td>0.0006</td>\n",
       "      <td>0.00049</td>\n",
       "      <td>0.0000</td>\n",
       "      <td>0.00000</td>\n",
       "      <td>0.001</td>\n",
       "      <td>100</td>\n",
       "      <td>{'C': 0.001, 'gamma': 100}</td>\n",
       "      <td>0.347826</td>\n",
       "      <td>0.347826</td>\n",
       "      <td>0.363636</td>\n",
       "      <td>0.363636</td>\n",
       "      <td>0.409091</td>\n",
       "      <td>0.366403</td>\n",
       "      <td>0.022485</td>\n",
       "      <td>22</td>\n",
       "    </tr>\n",
       "    <tr>\n",
       "      <th>6</th>\n",
       "      <td>0.0004</td>\n",
       "      <td>0.00049</td>\n",
       "      <td>0.0004</td>\n",
       "      <td>0.00049</td>\n",
       "      <td>0.01</td>\n",
       "      <td>0.001</td>\n",
       "      <td>{'C': 0.01, 'gamma': 0.001}</td>\n",
       "      <td>0.347826</td>\n",
       "      <td>0.347826</td>\n",
       "      <td>0.363636</td>\n",
       "      <td>0.363636</td>\n",
       "      <td>0.409091</td>\n",
       "      <td>0.366403</td>\n",
       "      <td>0.022485</td>\n",
       "      <td>22</td>\n",
       "    </tr>\n",
       "    <tr>\n",
       "      <th>7</th>\n",
       "      <td>0.0004</td>\n",
       "      <td>0.00049</td>\n",
       "      <td>0.0000</td>\n",
       "      <td>0.00000</td>\n",
       "      <td>0.01</td>\n",
       "      <td>0.01</td>\n",
       "      <td>{'C': 0.01, 'gamma': 0.01}</td>\n",
       "      <td>0.347826</td>\n",
       "      <td>0.347826</td>\n",
       "      <td>0.363636</td>\n",
       "      <td>0.363636</td>\n",
       "      <td>0.409091</td>\n",
       "      <td>0.366403</td>\n",
       "      <td>0.022485</td>\n",
       "      <td>22</td>\n",
       "    </tr>\n",
       "    <tr>\n",
       "      <th>8</th>\n",
       "      <td>0.0002</td>\n",
       "      <td>0.00040</td>\n",
       "      <td>0.0002</td>\n",
       "      <td>0.00040</td>\n",
       "      <td>0.01</td>\n",
       "      <td>0.1</td>\n",
       "      <td>{'C': 0.01, 'gamma': 0.1}</td>\n",
       "      <td>0.347826</td>\n",
       "      <td>0.347826</td>\n",
       "      <td>0.363636</td>\n",
       "      <td>0.363636</td>\n",
       "      <td>0.409091</td>\n",
       "      <td>0.366403</td>\n",
       "      <td>0.022485</td>\n",
       "      <td>22</td>\n",
       "    </tr>\n",
       "    <tr>\n",
       "      <th>9</th>\n",
       "      <td>0.0002</td>\n",
       "      <td>0.00040</td>\n",
       "      <td>0.0002</td>\n",
       "      <td>0.00040</td>\n",
       "      <td>0.01</td>\n",
       "      <td>1</td>\n",
       "      <td>{'C': 0.01, 'gamma': 1}</td>\n",
       "      <td>0.347826</td>\n",
       "      <td>0.347826</td>\n",
       "      <td>0.363636</td>\n",
       "      <td>0.363636</td>\n",
       "      <td>0.409091</td>\n",
       "      <td>0.366403</td>\n",
       "      <td>0.022485</td>\n",
       "      <td>22</td>\n",
       "    </tr>\n",
       "    <tr>\n",
       "      <th>10</th>\n",
       "      <td>0.0004</td>\n",
       "      <td>0.00049</td>\n",
       "      <td>0.0000</td>\n",
       "      <td>0.00000</td>\n",
       "      <td>0.01</td>\n",
       "      <td>10</td>\n",
       "      <td>{'C': 0.01, 'gamma': 10}</td>\n",
       "      <td>0.347826</td>\n",
       "      <td>0.347826</td>\n",
       "      <td>0.363636</td>\n",
       "      <td>0.363636</td>\n",
       "      <td>0.409091</td>\n",
       "      <td>0.366403</td>\n",
       "      <td>0.022485</td>\n",
       "      <td>22</td>\n",
       "    </tr>\n",
       "    <tr>\n",
       "      <th>11</th>\n",
       "      <td>0.0004</td>\n",
       "      <td>0.00049</td>\n",
       "      <td>0.0002</td>\n",
       "      <td>0.00040</td>\n",
       "      <td>0.01</td>\n",
       "      <td>100</td>\n",
       "      <td>{'C': 0.01, 'gamma': 100}</td>\n",
       "      <td>0.347826</td>\n",
       "      <td>0.347826</td>\n",
       "      <td>0.363636</td>\n",
       "      <td>0.363636</td>\n",
       "      <td>0.409091</td>\n",
       "      <td>0.366403</td>\n",
       "      <td>0.022485</td>\n",
       "      <td>22</td>\n",
       "    </tr>\n",
       "    <tr>\n",
       "      <th>12</th>\n",
       "      <td>0.0004</td>\n",
       "      <td>0.00049</td>\n",
       "      <td>0.0000</td>\n",
       "      <td>0.00000</td>\n",
       "      <td>0.1</td>\n",
       "      <td>0.001</td>\n",
       "      <td>{'C': 0.1, 'gamma': 0.001}</td>\n",
       "      <td>0.347826</td>\n",
       "      <td>0.347826</td>\n",
       "      <td>0.363636</td>\n",
       "      <td>0.363636</td>\n",
       "      <td>0.409091</td>\n",
       "      <td>0.366403</td>\n",
       "      <td>0.022485</td>\n",
       "      <td>22</td>\n",
       "    </tr>\n",
       "    <tr>\n",
       "      <th>13</th>\n",
       "      <td>0.0004</td>\n",
       "      <td>0.00049</td>\n",
       "      <td>0.0002</td>\n",
       "      <td>0.00040</td>\n",
       "      <td>0.1</td>\n",
       "      <td>0.01</td>\n",
       "      <td>{'C': 0.1, 'gamma': 0.01}</td>\n",
       "      <td>0.695652</td>\n",
       "      <td>0.695652</td>\n",
       "      <td>0.681818</td>\n",
       "      <td>0.681818</td>\n",
       "      <td>0.727273</td>\n",
       "      <td>0.696443</td>\n",
       "      <td>0.016610</td>\n",
       "      <td>17</td>\n",
       "    </tr>\n",
       "    <tr>\n",
       "      <th>14</th>\n",
       "      <td>0.0002</td>\n",
       "      <td>0.00040</td>\n",
       "      <td>0.0002</td>\n",
       "      <td>0.00040</td>\n",
       "      <td>0.1</td>\n",
       "      <td>0.1</td>\n",
       "      <td>{'C': 0.1, 'gamma': 0.1}</td>\n",
       "      <td>0.913043</td>\n",
       "      <td>0.913043</td>\n",
       "      <td>0.909091</td>\n",
       "      <td>0.863636</td>\n",
       "      <td>0.909091</td>\n",
       "      <td>0.901581</td>\n",
       "      <td>0.019054</td>\n",
       "      <td>16</td>\n",
       "    </tr>\n",
       "    <tr>\n",
       "      <th>15</th>\n",
       "      <td>0.0004</td>\n",
       "      <td>0.00049</td>\n",
       "      <td>0.0000</td>\n",
       "      <td>0.00000</td>\n",
       "      <td>0.1</td>\n",
       "      <td>1</td>\n",
       "      <td>{'C': 0.1, 'gamma': 1}</td>\n",
       "      <td>1.000000</td>\n",
       "      <td>0.913043</td>\n",
       "      <td>1.000000</td>\n",
       "      <td>0.909091</td>\n",
       "      <td>0.954545</td>\n",
       "      <td>0.955336</td>\n",
       "      <td>0.039794</td>\n",
       "      <td>6</td>\n",
       "    </tr>\n",
       "    <tr>\n",
       "      <th>16</th>\n",
       "      <td>0.0004</td>\n",
       "      <td>0.00049</td>\n",
       "      <td>0.0000</td>\n",
       "      <td>0.00000</td>\n",
       "      <td>0.1</td>\n",
       "      <td>10</td>\n",
       "      <td>{'C': 0.1, 'gamma': 10}</td>\n",
       "      <td>0.347826</td>\n",
       "      <td>0.347826</td>\n",
       "      <td>0.363636</td>\n",
       "      <td>0.363636</td>\n",
       "      <td>0.409091</td>\n",
       "      <td>0.366403</td>\n",
       "      <td>0.022485</td>\n",
       "      <td>22</td>\n",
       "    </tr>\n",
       "    <tr>\n",
       "      <th>17</th>\n",
       "      <td>0.0002</td>\n",
       "      <td>0.00040</td>\n",
       "      <td>0.0004</td>\n",
       "      <td>0.00049</td>\n",
       "      <td>0.1</td>\n",
       "      <td>100</td>\n",
       "      <td>{'C': 0.1, 'gamma': 100}</td>\n",
       "      <td>0.347826</td>\n",
       "      <td>0.347826</td>\n",
       "      <td>0.363636</td>\n",
       "      <td>0.363636</td>\n",
       "      <td>0.409091</td>\n",
       "      <td>0.366403</td>\n",
       "      <td>0.022485</td>\n",
       "      <td>22</td>\n",
       "    </tr>\n",
       "    <tr>\n",
       "      <th>18</th>\n",
       "      <td>0.0004</td>\n",
       "      <td>0.00049</td>\n",
       "      <td>0.0002</td>\n",
       "      <td>0.00040</td>\n",
       "      <td>1</td>\n",
       "      <td>0.001</td>\n",
       "      <td>{'C': 1, 'gamma': 0.001}</td>\n",
       "      <td>0.695652</td>\n",
       "      <td>0.695652</td>\n",
       "      <td>0.681818</td>\n",
       "      <td>0.681818</td>\n",
       "      <td>0.727273</td>\n",
       "      <td>0.696443</td>\n",
       "      <td>0.016610</td>\n",
       "      <td>17</td>\n",
       "    </tr>\n",
       "    <tr>\n",
       "      <th>19</th>\n",
       "      <td>0.0002</td>\n",
       "      <td>0.00040</td>\n",
       "      <td>0.0000</td>\n",
       "      <td>0.00000</td>\n",
       "      <td>1</td>\n",
       "      <td>0.01</td>\n",
       "      <td>{'C': 1, 'gamma': 0.01}</td>\n",
       "      <td>0.913043</td>\n",
       "      <td>0.913043</td>\n",
       "      <td>1.000000</td>\n",
       "      <td>0.909091</td>\n",
       "      <td>0.954545</td>\n",
       "      <td>0.937945</td>\n",
       "      <td>0.035211</td>\n",
       "      <td>11</td>\n",
       "    </tr>\n",
       "    <tr>\n",
       "      <th>20</th>\n",
       "      <td>0.0004</td>\n",
       "      <td>0.00049</td>\n",
       "      <td>0.0002</td>\n",
       "      <td>0.00040</td>\n",
       "      <td>1</td>\n",
       "      <td>0.1</td>\n",
       "      <td>{'C': 1, 'gamma': 0.1}</td>\n",
       "      <td>1.000000</td>\n",
       "      <td>0.956522</td>\n",
       "      <td>1.000000</td>\n",
       "      <td>0.909091</td>\n",
       "      <td>0.954545</td>\n",
       "      <td>0.964032</td>\n",
       "      <td>0.033918</td>\n",
       "      <td>3</td>\n",
       "    </tr>\n",
       "    <tr>\n",
       "      <th>21</th>\n",
       "      <td>0.0002</td>\n",
       "      <td>0.00040</td>\n",
       "      <td>0.0002</td>\n",
       "      <td>0.00040</td>\n",
       "      <td>1</td>\n",
       "      <td>1</td>\n",
       "      <td>{'C': 1, 'gamma': 1}</td>\n",
       "      <td>0.956522</td>\n",
       "      <td>0.913043</td>\n",
       "      <td>1.000000</td>\n",
       "      <td>0.909091</td>\n",
       "      <td>0.954545</td>\n",
       "      <td>0.946640</td>\n",
       "      <td>0.033305</td>\n",
       "      <td>8</td>\n",
       "    </tr>\n",
       "    <tr>\n",
       "      <th>22</th>\n",
       "      <td>0.0004</td>\n",
       "      <td>0.00049</td>\n",
       "      <td>0.0000</td>\n",
       "      <td>0.00000</td>\n",
       "      <td>1</td>\n",
       "      <td>10</td>\n",
       "      <td>{'C': 1, 'gamma': 10}</td>\n",
       "      <td>0.913043</td>\n",
       "      <td>0.956522</td>\n",
       "      <td>1.000000</td>\n",
       "      <td>0.818182</td>\n",
       "      <td>0.954545</td>\n",
       "      <td>0.928458</td>\n",
       "      <td>0.061620</td>\n",
       "      <td>13</td>\n",
       "    </tr>\n",
       "    <tr>\n",
       "      <th>23</th>\n",
       "      <td>0.0008</td>\n",
       "      <td>0.00040</td>\n",
       "      <td>0.0002</td>\n",
       "      <td>0.00040</td>\n",
       "      <td>1</td>\n",
       "      <td>100</td>\n",
       "      <td>{'C': 1, 'gamma': 100}</td>\n",
       "      <td>0.391304</td>\n",
       "      <td>0.434783</td>\n",
       "      <td>0.545455</td>\n",
       "      <td>0.500000</td>\n",
       "      <td>0.636364</td>\n",
       "      <td>0.501581</td>\n",
       "      <td>0.085693</td>\n",
       "      <td>21</td>\n",
       "    </tr>\n",
       "    <tr>\n",
       "      <th>24</th>\n",
       "      <td>0.0004</td>\n",
       "      <td>0.00049</td>\n",
       "      <td>0.0000</td>\n",
       "      <td>0.00000</td>\n",
       "      <td>10</td>\n",
       "      <td>0.001</td>\n",
       "      <td>{'C': 10, 'gamma': 0.001}</td>\n",
       "      <td>0.913043</td>\n",
       "      <td>0.913043</td>\n",
       "      <td>1.000000</td>\n",
       "      <td>0.909091</td>\n",
       "      <td>0.954545</td>\n",
       "      <td>0.937945</td>\n",
       "      <td>0.035211</td>\n",
       "      <td>11</td>\n",
       "    </tr>\n",
       "    <tr>\n",
       "      <th>25</th>\n",
       "      <td>0.0000</td>\n",
       "      <td>0.00000</td>\n",
       "      <td>0.0004</td>\n",
       "      <td>0.00049</td>\n",
       "      <td>10</td>\n",
       "      <td>0.01</td>\n",
       "      <td>{'C': 10, 'gamma': 0.01}</td>\n",
       "      <td>1.000000</td>\n",
       "      <td>0.956522</td>\n",
       "      <td>1.000000</td>\n",
       "      <td>0.909091</td>\n",
       "      <td>0.954545</td>\n",
       "      <td>0.964032</td>\n",
       "      <td>0.033918</td>\n",
       "      <td>3</td>\n",
       "    </tr>\n",
       "    <tr>\n",
       "      <th>26</th>\n",
       "      <td>0.0004</td>\n",
       "      <td>0.00049</td>\n",
       "      <td>0.0002</td>\n",
       "      <td>0.00040</td>\n",
       "      <td>10</td>\n",
       "      <td>0.1</td>\n",
       "      <td>{'C': 10, 'gamma': 0.1}</td>\n",
       "      <td>1.000000</td>\n",
       "      <td>0.956522</td>\n",
       "      <td>1.000000</td>\n",
       "      <td>0.954545</td>\n",
       "      <td>0.954545</td>\n",
       "      <td>0.973123</td>\n",
       "      <td>0.021957</td>\n",
       "      <td>1</td>\n",
       "    </tr>\n",
       "    <tr>\n",
       "      <th>27</th>\n",
       "      <td>0.0002</td>\n",
       "      <td>0.00040</td>\n",
       "      <td>0.0000</td>\n",
       "      <td>0.00000</td>\n",
       "      <td>10</td>\n",
       "      <td>1</td>\n",
       "      <td>{'C': 10, 'gamma': 1}</td>\n",
       "      <td>0.956522</td>\n",
       "      <td>0.956522</td>\n",
       "      <td>1.000000</td>\n",
       "      <td>0.863636</td>\n",
       "      <td>0.954545</td>\n",
       "      <td>0.946245</td>\n",
       "      <td>0.044708</td>\n",
       "      <td>9</td>\n",
       "    </tr>\n",
       "    <tr>\n",
       "      <th>28</th>\n",
       "      <td>0.0004</td>\n",
       "      <td>0.00049</td>\n",
       "      <td>0.0000</td>\n",
       "      <td>0.00000</td>\n",
       "      <td>10</td>\n",
       "      <td>10</td>\n",
       "      <td>{'C': 10, 'gamma': 10}</td>\n",
       "      <td>0.869565</td>\n",
       "      <td>0.913043</td>\n",
       "      <td>1.000000</td>\n",
       "      <td>0.818182</td>\n",
       "      <td>0.954545</td>\n",
       "      <td>0.911067</td>\n",
       "      <td>0.063488</td>\n",
       "      <td>14</td>\n",
       "    </tr>\n",
       "    <tr>\n",
       "      <th>29</th>\n",
       "      <td>0.0008</td>\n",
       "      <td>0.00040</td>\n",
       "      <td>0.0002</td>\n",
       "      <td>0.00040</td>\n",
       "      <td>10</td>\n",
       "      <td>100</td>\n",
       "      <td>{'C': 10, 'gamma': 100}</td>\n",
       "      <td>0.521739</td>\n",
       "      <td>0.521739</td>\n",
       "      <td>0.590909</td>\n",
       "      <td>0.590909</td>\n",
       "      <td>0.681818</td>\n",
       "      <td>0.581423</td>\n",
       "      <td>0.058964</td>\n",
       "      <td>19</td>\n",
       "    </tr>\n",
       "    <tr>\n",
       "      <th>30</th>\n",
       "      <td>0.0004</td>\n",
       "      <td>0.00049</td>\n",
       "      <td>0.0000</td>\n",
       "      <td>0.00000</td>\n",
       "      <td>100</td>\n",
       "      <td>0.001</td>\n",
       "      <td>{'C': 100, 'gamma': 0.001}</td>\n",
       "      <td>1.000000</td>\n",
       "      <td>0.956522</td>\n",
       "      <td>1.000000</td>\n",
       "      <td>0.909091</td>\n",
       "      <td>0.954545</td>\n",
       "      <td>0.964032</td>\n",
       "      <td>0.033918</td>\n",
       "      <td>3</td>\n",
       "    </tr>\n",
       "    <tr>\n",
       "      <th>31</th>\n",
       "      <td>0.0006</td>\n",
       "      <td>0.00049</td>\n",
       "      <td>0.0000</td>\n",
       "      <td>0.00000</td>\n",
       "      <td>100</td>\n",
       "      <td>0.01</td>\n",
       "      <td>{'C': 100, 'gamma': 0.01}</td>\n",
       "      <td>1.000000</td>\n",
       "      <td>0.913043</td>\n",
       "      <td>1.000000</td>\n",
       "      <td>0.954545</td>\n",
       "      <td>0.954545</td>\n",
       "      <td>0.964427</td>\n",
       "      <td>0.032761</td>\n",
       "      <td>2</td>\n",
       "    </tr>\n",
       "    <tr>\n",
       "      <th>32</th>\n",
       "      <td>0.0000</td>\n",
       "      <td>0.00000</td>\n",
       "      <td>0.0000</td>\n",
       "      <td>0.00000</td>\n",
       "      <td>100</td>\n",
       "      <td>0.1</td>\n",
       "      <td>{'C': 100, 'gamma': 0.1}</td>\n",
       "      <td>1.000000</td>\n",
       "      <td>0.956522</td>\n",
       "      <td>1.000000</td>\n",
       "      <td>0.863636</td>\n",
       "      <td>0.954545</td>\n",
       "      <td>0.954941</td>\n",
       "      <td>0.049799</td>\n",
       "      <td>7</td>\n",
       "    </tr>\n",
       "    <tr>\n",
       "      <th>33</th>\n",
       "      <td>0.0002</td>\n",
       "      <td>0.00040</td>\n",
       "      <td>0.0002</td>\n",
       "      <td>0.00040</td>\n",
       "      <td>100</td>\n",
       "      <td>1</td>\n",
       "      <td>{'C': 100, 'gamma': 1}</td>\n",
       "      <td>0.956522</td>\n",
       "      <td>0.956522</td>\n",
       "      <td>1.000000</td>\n",
       "      <td>0.863636</td>\n",
       "      <td>0.954545</td>\n",
       "      <td>0.946245</td>\n",
       "      <td>0.044708</td>\n",
       "      <td>9</td>\n",
       "    </tr>\n",
       "    <tr>\n",
       "      <th>34</th>\n",
       "      <td>0.0006</td>\n",
       "      <td>0.00049</td>\n",
       "      <td>0.0000</td>\n",
       "      <td>0.00000</td>\n",
       "      <td>100</td>\n",
       "      <td>10</td>\n",
       "      <td>{'C': 100, 'gamma': 10}</td>\n",
       "      <td>0.869565</td>\n",
       "      <td>0.913043</td>\n",
       "      <td>1.000000</td>\n",
       "      <td>0.818182</td>\n",
       "      <td>0.954545</td>\n",
       "      <td>0.911067</td>\n",
       "      <td>0.063488</td>\n",
       "      <td>14</td>\n",
       "    </tr>\n",
       "    <tr>\n",
       "      <th>35</th>\n",
       "      <td>0.0004</td>\n",
       "      <td>0.00049</td>\n",
       "      <td>0.0004</td>\n",
       "      <td>0.00049</td>\n",
       "      <td>100</td>\n",
       "      <td>100</td>\n",
       "      <td>{'C': 100, 'gamma': 100}</td>\n",
       "      <td>0.521739</td>\n",
       "      <td>0.521739</td>\n",
       "      <td>0.590909</td>\n",
       "      <td>0.590909</td>\n",
       "      <td>0.681818</td>\n",
       "      <td>0.581423</td>\n",
       "      <td>0.058964</td>\n",
       "      <td>19</td>\n",
       "    </tr>\n",
       "  </tbody>\n",
       "</table>\n",
       "</div>"
      ],
      "text/plain": [
       "    mean_fit_time  std_fit_time  mean_score_time  std_score_time param_C  \\\n",
       "0          0.0004       0.00049           0.0004         0.00049   0.001   \n",
       "1          0.0004       0.00049           0.0000         0.00000   0.001   \n",
       "2          0.0004       0.00049           0.0000         0.00000   0.001   \n",
       "3          0.0002       0.00040           0.0002         0.00040   0.001   \n",
       "4          0.0002       0.00040           0.0002         0.00040   0.001   \n",
       "5          0.0006       0.00049           0.0000         0.00000   0.001   \n",
       "6          0.0004       0.00049           0.0004         0.00049    0.01   \n",
       "7          0.0004       0.00049           0.0000         0.00000    0.01   \n",
       "8          0.0002       0.00040           0.0002         0.00040    0.01   \n",
       "9          0.0002       0.00040           0.0002         0.00040    0.01   \n",
       "10         0.0004       0.00049           0.0000         0.00000    0.01   \n",
       "11         0.0004       0.00049           0.0002         0.00040    0.01   \n",
       "12         0.0004       0.00049           0.0000         0.00000     0.1   \n",
       "13         0.0004       0.00049           0.0002         0.00040     0.1   \n",
       "14         0.0002       0.00040           0.0002         0.00040     0.1   \n",
       "15         0.0004       0.00049           0.0000         0.00000     0.1   \n",
       "16         0.0004       0.00049           0.0000         0.00000     0.1   \n",
       "17         0.0002       0.00040           0.0004         0.00049     0.1   \n",
       "18         0.0004       0.00049           0.0002         0.00040       1   \n",
       "19         0.0002       0.00040           0.0000         0.00000       1   \n",
       "20         0.0004       0.00049           0.0002         0.00040       1   \n",
       "21         0.0002       0.00040           0.0002         0.00040       1   \n",
       "22         0.0004       0.00049           0.0000         0.00000       1   \n",
       "23         0.0008       0.00040           0.0002         0.00040       1   \n",
       "24         0.0004       0.00049           0.0000         0.00000      10   \n",
       "25         0.0000       0.00000           0.0004         0.00049      10   \n",
       "26         0.0004       0.00049           0.0002         0.00040      10   \n",
       "27         0.0002       0.00040           0.0000         0.00000      10   \n",
       "28         0.0004       0.00049           0.0000         0.00000      10   \n",
       "29         0.0008       0.00040           0.0002         0.00040      10   \n",
       "30         0.0004       0.00049           0.0000         0.00000     100   \n",
       "31         0.0006       0.00049           0.0000         0.00000     100   \n",
       "32         0.0000       0.00000           0.0000         0.00000     100   \n",
       "33         0.0002       0.00040           0.0002         0.00040     100   \n",
       "34         0.0006       0.00049           0.0000         0.00000     100   \n",
       "35         0.0004       0.00049           0.0004         0.00049     100   \n",
       "\n",
       "   param_gamma                        params  split0_test_score  \\\n",
       "0        0.001  {'C': 0.001, 'gamma': 0.001}           0.347826   \n",
       "1         0.01   {'C': 0.001, 'gamma': 0.01}           0.347826   \n",
       "2          0.1    {'C': 0.001, 'gamma': 0.1}           0.347826   \n",
       "3            1      {'C': 0.001, 'gamma': 1}           0.347826   \n",
       "4           10     {'C': 0.001, 'gamma': 10}           0.347826   \n",
       "5          100    {'C': 0.001, 'gamma': 100}           0.347826   \n",
       "6        0.001   {'C': 0.01, 'gamma': 0.001}           0.347826   \n",
       "7         0.01    {'C': 0.01, 'gamma': 0.01}           0.347826   \n",
       "8          0.1     {'C': 0.01, 'gamma': 0.1}           0.347826   \n",
       "9            1       {'C': 0.01, 'gamma': 1}           0.347826   \n",
       "10          10      {'C': 0.01, 'gamma': 10}           0.347826   \n",
       "11         100     {'C': 0.01, 'gamma': 100}           0.347826   \n",
       "12       0.001    {'C': 0.1, 'gamma': 0.001}           0.347826   \n",
       "13        0.01     {'C': 0.1, 'gamma': 0.01}           0.695652   \n",
       "14         0.1      {'C': 0.1, 'gamma': 0.1}           0.913043   \n",
       "15           1        {'C': 0.1, 'gamma': 1}           1.000000   \n",
       "16          10       {'C': 0.1, 'gamma': 10}           0.347826   \n",
       "17         100      {'C': 0.1, 'gamma': 100}           0.347826   \n",
       "18       0.001      {'C': 1, 'gamma': 0.001}           0.695652   \n",
       "19        0.01       {'C': 1, 'gamma': 0.01}           0.913043   \n",
       "20         0.1        {'C': 1, 'gamma': 0.1}           1.000000   \n",
       "21           1          {'C': 1, 'gamma': 1}           0.956522   \n",
       "22          10         {'C': 1, 'gamma': 10}           0.913043   \n",
       "23         100        {'C': 1, 'gamma': 100}           0.391304   \n",
       "24       0.001     {'C': 10, 'gamma': 0.001}           0.913043   \n",
       "25        0.01      {'C': 10, 'gamma': 0.01}           1.000000   \n",
       "26         0.1       {'C': 10, 'gamma': 0.1}           1.000000   \n",
       "27           1         {'C': 10, 'gamma': 1}           0.956522   \n",
       "28          10        {'C': 10, 'gamma': 10}           0.869565   \n",
       "29         100       {'C': 10, 'gamma': 100}           0.521739   \n",
       "30       0.001    {'C': 100, 'gamma': 0.001}           1.000000   \n",
       "31        0.01     {'C': 100, 'gamma': 0.01}           1.000000   \n",
       "32         0.1      {'C': 100, 'gamma': 0.1}           1.000000   \n",
       "33           1        {'C': 100, 'gamma': 1}           0.956522   \n",
       "34          10       {'C': 100, 'gamma': 10}           0.869565   \n",
       "35         100      {'C': 100, 'gamma': 100}           0.521739   \n",
       "\n",
       "    split1_test_score  split2_test_score  split3_test_score  \\\n",
       "0            0.347826           0.363636           0.363636   \n",
       "1            0.347826           0.363636           0.363636   \n",
       "2            0.347826           0.363636           0.363636   \n",
       "3            0.347826           0.363636           0.363636   \n",
       "4            0.347826           0.363636           0.363636   \n",
       "5            0.347826           0.363636           0.363636   \n",
       "6            0.347826           0.363636           0.363636   \n",
       "7            0.347826           0.363636           0.363636   \n",
       "8            0.347826           0.363636           0.363636   \n",
       "9            0.347826           0.363636           0.363636   \n",
       "10           0.347826           0.363636           0.363636   \n",
       "11           0.347826           0.363636           0.363636   \n",
       "12           0.347826           0.363636           0.363636   \n",
       "13           0.695652           0.681818           0.681818   \n",
       "14           0.913043           0.909091           0.863636   \n",
       "15           0.913043           1.000000           0.909091   \n",
       "16           0.347826           0.363636           0.363636   \n",
       "17           0.347826           0.363636           0.363636   \n",
       "18           0.695652           0.681818           0.681818   \n",
       "19           0.913043           1.000000           0.909091   \n",
       "20           0.956522           1.000000           0.909091   \n",
       "21           0.913043           1.000000           0.909091   \n",
       "22           0.956522           1.000000           0.818182   \n",
       "23           0.434783           0.545455           0.500000   \n",
       "24           0.913043           1.000000           0.909091   \n",
       "25           0.956522           1.000000           0.909091   \n",
       "26           0.956522           1.000000           0.954545   \n",
       "27           0.956522           1.000000           0.863636   \n",
       "28           0.913043           1.000000           0.818182   \n",
       "29           0.521739           0.590909           0.590909   \n",
       "30           0.956522           1.000000           0.909091   \n",
       "31           0.913043           1.000000           0.954545   \n",
       "32           0.956522           1.000000           0.863636   \n",
       "33           0.956522           1.000000           0.863636   \n",
       "34           0.913043           1.000000           0.818182   \n",
       "35           0.521739           0.590909           0.590909   \n",
       "\n",
       "    split4_test_score  mean_test_score  std_test_score  rank_test_score  \n",
       "0            0.409091         0.366403        0.022485               22  \n",
       "1            0.409091         0.366403        0.022485               22  \n",
       "2            0.409091         0.366403        0.022485               22  \n",
       "3            0.409091         0.366403        0.022485               22  \n",
       "4            0.409091         0.366403        0.022485               22  \n",
       "5            0.409091         0.366403        0.022485               22  \n",
       "6            0.409091         0.366403        0.022485               22  \n",
       "7            0.409091         0.366403        0.022485               22  \n",
       "8            0.409091         0.366403        0.022485               22  \n",
       "9            0.409091         0.366403        0.022485               22  \n",
       "10           0.409091         0.366403        0.022485               22  \n",
       "11           0.409091         0.366403        0.022485               22  \n",
       "12           0.409091         0.366403        0.022485               22  \n",
       "13           0.727273         0.696443        0.016610               17  \n",
       "14           0.909091         0.901581        0.019054               16  \n",
       "15           0.954545         0.955336        0.039794                6  \n",
       "16           0.409091         0.366403        0.022485               22  \n",
       "17           0.409091         0.366403        0.022485               22  \n",
       "18           0.727273         0.696443        0.016610               17  \n",
       "19           0.954545         0.937945        0.035211               11  \n",
       "20           0.954545         0.964032        0.033918                3  \n",
       "21           0.954545         0.946640        0.033305                8  \n",
       "22           0.954545         0.928458        0.061620               13  \n",
       "23           0.636364         0.501581        0.085693               21  \n",
       "24           0.954545         0.937945        0.035211               11  \n",
       "25           0.954545         0.964032        0.033918                3  \n",
       "26           0.954545         0.973123        0.021957                1  \n",
       "27           0.954545         0.946245        0.044708                9  \n",
       "28           0.954545         0.911067        0.063488               14  \n",
       "29           0.681818         0.581423        0.058964               19  \n",
       "30           0.954545         0.964032        0.033918                3  \n",
       "31           0.954545         0.964427        0.032761                2  \n",
       "32           0.954545         0.954941        0.049799                7  \n",
       "33           0.954545         0.946245        0.044708                9  \n",
       "34           0.954545         0.911067        0.063488               14  \n",
       "35           0.681818         0.581423        0.058964               19  "
      ]
     },
     "execution_count": 19,
     "metadata": {},
     "output_type": "execute_result"
    }
   ],
   "source": [
    "results = pd.DataFrame(grid_search.cv_results_)\n",
    "results"
   ]
  },
  {
   "cell_type": "markdown",
   "metadata": {},
   "source": [
    "Cada row tem um modelo treinado, com os hiperparametros, dados sobre o tempo de treinamento e o score em cada set. Para visualizar melhor os resultados dos hiperparâmetros em relação ao score, vamos utilizar um heatmap: "
   ]
  },
  {
   "cell_type": "code",
   "execution_count": 20,
   "metadata": {},
   "outputs": [
    {
     "data": {
      "image/png": "[encoded data removed]",
      "text/plain": [
       "<Figure size 432x288 with 2 Axes>"
      ]
     },
     "metadata": {
      "needs_background": "light"
     },
     "output_type": "display_data"
    }
   ],
   "source": [
    "scores = np.array(results.mean_test_score).reshape(6, 6)\n",
    "\n",
    "# plot the mean cross-validation scores\n",
    "\n",
    "ax = sns.heatmap(scores, cmap=\"viridis\", annot=True)\n",
    "\n",
    "ax.set(xticklabels=param_grid['gamma'],\n",
    "       ylabel='C',\n",
    "       yticklabels=param_grid['C'],\n",
    "       xlabel='gamma');"
   ]
  },
  {
   "cell_type": "markdown",
   "metadata": {},
   "source": [
    "Pelo resultado, dá pra perceber que a escolha dos hiperparâmetros importa e MUITO para o resultado - temos alguns scores abaixo de 0.4. Além disso, dá pra ver que o range do grid escolhido foi bom, uma vez que o melhor resultado não está em nenhum dos cantos.\n",
    "\n",
    "O GridSearchCV também permite uma lista de grids - dessa forma, podemos testar hiperparâmetros dependentes de outros. No SVC,  por exemplo, caso utilizassemos kernel linear ao invés de RBF, o gamma não faria sentido algum."
   ]
  },
  {
   "cell_type": "code",
   "execution_count": 21,
   "metadata": {},
   "outputs": [
    {
     "name": "stdout",
     "output_type": "stream",
     "text": [
      "Test set score: 0.97\n",
      "Best parameters: {'C': 10, 'gamma': 0.1, 'kernel': 'rbf'}\n"
     ]
    }
   ],
   "source": [
    "param_grid = [{'kernel': ['rbf'],\n",
    "               'C': [0.001, 0.01, 0.1, 1, 10, 100],\n",
    "               'gamma': [0.001, 0.01, 0.1, 1, 10, 100]},\n",
    "              {'kernel': ['linear'],\n",
    "               'C': [0.001, 0.01, 0.1, 1, 10, 100]}]\n",
    "\n",
    "grid_search = GridSearchCV(SVC(), param_grid, cv=5)\n",
    "grid_search.fit(X_train, y_train)\n",
    "\n",
    "print(f\"Test set score: {grid_search.score(X_test, y_test):.2f}\")\n",
    "print(f\"Best parameters: {grid_search.best_params_}\")"
   ]
  },
  {
   "cell_type": "markdown",
   "metadata": {},
   "source": [
    "Podemos ir ainda mais fundo que a validação cruzada dentro do GridSearch e implementá-la dentro do cross_val_score - isso garante que nosso modelo treine em diferentes partes do dataset, sem se prender a somente um mas também sem ter um vazamento de dados real. No entanto, isso é pouquíssimo usado para previsões, mais para verificar o quão bem o modelo pode ir em um dataset: "
   ]
  },
  {
   "cell_type": "code",
   "execution_count": 22,
   "metadata": {},
   "outputs": [
    {
     "name": "stdout",
     "output_type": "stream",
     "text": [
      "Cross-validation scores:  [0.96666667 1.         0.9        0.96666667 1.        ]\n",
      "Mean cross-validation score:  0.9666666666666668\n"
     ]
    }
   ],
   "source": [
    "scores = cross_val_score(GridSearchCV(SVC(), param_grid, cv=5),\n",
    "                         iris.data, iris.target, cv=5)\n",
    "\n",
    "print(\"Cross-validation scores: \", scores)\n",
    "print(\"Mean cross-validation score: \", scores.mean())"
   ]
  },
  {
   "cell_type": "markdown",
   "metadata": {},
   "source": [
    "Como realizamos a validação cruzada duas vezes, nosso modelo acabou sendo treinado 900 vezes. O dataset iris é simples e o SVC é um modelo relativamente leve computacionalmente, mas algoritmos como o nested loop podem acabar se tornando bem pesados em Gradient Boosting Machines.\n",
    "<br>\n",
    "\n",
    "## Métricas de Avaliação\n",
    "\n",
    "Até o momento, o livro só abordou acurácia e R². No entanto, são infinitas as possibilidades de métricas para a otimização, e devemos defini-las de acordo com o objetivo final do modelo. Qual é a métrica de negócio a ser alcançada? O que o algoritmo tem que priorizar acertar? Quais erros seriam os \"menos piores\"?\n",
    "\n",
    "### Métricas para Classificação Binária\n",
    "\n",
    "Vamos aos fatos - acurácia nem sempre é uma boa métrica e é muito fácil de provar isso. Vamos supor que teu modelo serve pra prevê a existência de uma doença extremamente rara e mortal, com 0.5% de chance de ocorrer dentro da amostra. Se teu modelo é simplesmente afirmar que a doença não existe e retornar 0 (negativo) para todos os exames, ele terá a acurácia de 99.5%... o que, na teoria, é um baita score. Mas e na prática? Nesse caso, seria mais interessante ter falsos positivos do que falsos negativos, dada a gravidade da doença.\n",
    "\n",
    "Em estatística, os FPs (falso positivos) são chamados de erro do Tipo I. Já os FNs (falso negativos) são chamados de Tipo II. Eu prefiro os termos FP e FNs do que os termos estatísticos - eles são mais explicítos e mais fáceis de entender.\n",
    "\n",
    "* A **acurácia** é definida por (TP + TN)/(Todas Samples) - ou seja, o número de acertos pelo número de amostras. \n",
    "* A **precisão**, que é definida por TP/(TP + FP) - ela é utilizada quando a ideia é reduzir o número de Falso Positivos. \n",
    "* O **recall** é o contrário da precisão: TP/(TP + FN), e é usado para reduzir o número de Falso Negativos. O exemplo da doença rara e mortal que foi dado acima é um dos problemas que se beneficiaria fortemente do uso do recall. Ele também é chamado de sensibilidade.\n",
    "\n",
    "Por fim, temos o **F-Score**. Ele tenta balancear a precisão e o recall utilizando a seguinte formula: \n",
    "* $F = 2 * \\frac{precision*recall}{precision + recall}$ \n",
    "\n",
    "Essa formula em especifíco se refere ao F1-score, o mais utilizado entre eles. Existem outros de acordo com a importância dada ao recall. O seu problema é que é mais complexo de interpretar e de explicar para aqueles de fora da área.\n",
    "\n",
    "______\n",
    "\n",
    "#### Mudando o threshold em problemas de classificação\n",
    "\n",
    "Alguns algoritmos classificatórios do scikit-learn permitem alterar o threshold da decisão - aumentar ou reduzir a certeza necessária que o modelo tem que ter para marcar uma observação como positiva. Reduzir o threshold do padrão (0) para -0.8, por exemplo, aumentaria o recall e reduziria a precisão, uma vez que seriam menores os números de Falso Negativos pois o modelo definiria como positivos mais observações.  "
   ]
  },
  {
   "cell_type": "code",
   "execution_count": 23,
   "metadata": {},
   "outputs": [
    {
     "name": "stdout",
     "output_type": "stream",
     "text": [
      "              precision    recall  f1-score   support\n",
      "\n",
      "           0       0.97      0.89      0.93       104\n",
      "           1       0.35      0.67      0.46         9\n",
      "\n",
      "    accuracy                           0.88       113\n",
      "   macro avg       0.66      0.78      0.70       113\n",
      "weighted avg       0.92      0.88      0.89       113\n",
      "\n"
     ]
    },
    {
     "name": "stderr",
     "output_type": "stream",
     "text": [
      "C:\\Users\\bueni\\Anaconda3\\lib\\site-packages\\sklearn\\utils\\deprecation.py:87: FutureWarning: Function make_blobs is deprecated; Please import make_blobs directly from scikit-learn\n",
      "  warnings.warn(msg, category=FutureWarning)\n"
     ]
    }
   ],
   "source": [
    "# Treinando um svc padrão\n",
    "\n",
    "from mglearn.datasets import make_blobs\n",
    "from sklearn.metrics import classification_report\n",
    "\n",
    "X, y = make_blobs(n_samples=(400, 50),\n",
    "                  centers=2,\n",
    "                  cluster_std=[7.0, 2],\n",
    "                  random_state=22)\n",
    "\n",
    "X_train, X_test, y_train, y_test = train_test_split(X, y, random_state=0)\n",
    "\n",
    "svc = SVC(gamma=.05).fit(X_train, y_train)\n",
    "\n",
    "print(classification_report(y_test, svc.predict(X_test)))"
   ]
  },
  {
   "cell_type": "code",
   "execution_count": 24,
   "metadata": {},
   "outputs": [
    {
     "name": "stdout",
     "output_type": "stream",
     "text": [
      "              precision    recall  f1-score   support\n",
      "\n",
      "           0       1.00      0.82      0.90       104\n",
      "           1       0.32      1.00      0.49         9\n",
      "\n",
      "    accuracy                           0.83       113\n",
      "   macro avg       0.66      0.91      0.69       113\n",
      "weighted avg       0.95      0.83      0.87       113\n",
      "\n"
     ]
    }
   ],
   "source": [
    "# Reduzindo o threshold de decisão\n",
    "\n",
    "y_pred_lower_threshold = svc.decision_function(X_test) > -0.8\n",
    "\n",
    "print(classification_report(y_test, y_pred_lower_threshold))"
   ]
  },
  {
   "cell_type": "code",
   "execution_count": 25,
   "metadata": {},
   "outputs": [
    {
     "name": "stdout",
     "output_type": "stream",
     "text": [
      "              precision    recall  f1-score   support\n",
      "\n",
      "           0       0.95      0.96      0.96       104\n",
      "           1       0.50      0.44      0.47         9\n",
      "\n",
      "    accuracy                           0.92       113\n",
      "   macro avg       0.73      0.70      0.71       113\n",
      "weighted avg       0.92      0.92      0.92       113\n",
      "\n"
     ]
    }
   ],
   "source": [
    "# Aumentando o threshold de decisão\n",
    "\n",
    "y_pred_higher_threshold = svc.decision_function(X_test) > 0.8\n",
    "\n",
    "print(classification_report(y_test, y_pred_higher_threshold))"
   ]
  },
  {
   "cell_type": "markdown",
   "metadata": {},
   "source": [
    "Ao aumentar o threshold, obrigamos o modelo a ter maior certeza antes de prever alguém como positivo - isso reduz o número de Falso Positivos, mas também aumenta o número de FNs. A decisão deve ser feita de acordo com a necessidade do negócio e/ou do problema.\n",
    "\n",
    "Vale lembrar que assim como a hiperparametrização, a escolha do threshold deve ser feita em um set de validação e não no set de teste, de forma a obter um resultado não otimista para o problema real.\n",
    "\n",
    "<br>\n",
    "\n",
    "Além do `decision_function`, outros modelos utilizam o método `predict_proba` (como é o caso dos ensembles), que retorna a probabilidade de 0 - 1 para a classe positiva. Por padrão, o modelo define 0.5 como o threshold, ou seja, caso ele tenha <= 50% de certeza que aquela é a classe certa, ele irá prever ela. \n",
    "\n",
    "A predict_proba tem relação com o conceito de calibração de modelos. Um modelo definido como calibrado tem sua incerteza precisa - e podemos criar valor a partir das suas certezas e incertezas. As autoras do livro recomendam um [artigo chamado \"“Predicting Good Probabilities with Supervised Learning”](https://www.cs.cornell.edu/~alexn/papers/calibration.icml05.crc.rev3.pdf), que cobre o assunto com mais detalhe.\n",
    "\n",
    "### Curva precision-recall e ROC \n",
    "\n",
    "Ali em cima a gente viu que sempre é possível chegar em uma certa precisão ou certo recall, o problema é a troca que estaremos fazendo. Se rotular todo mundo positivo, teremos o recall perfeito mas uma precisão igual zero. Para que seja possível ter uma ideia geral de qual o threshold de score que queremos alcançar sem ter que perder muito de algum dos lados, podemos utilizar a ferramente `curva precision-recall`, disponível no módulo de métricas do scikit-learn. \n",
    "\n",
    "Para demonstrar, vamos utilizar um dataset novo com maior número de datapoints (permitindo um gráfico mais suave)."
   ]
  },
  {
   "cell_type": "code",
   "execution_count": 26,
   "metadata": {},
   "outputs": [
    {
     "name": "stderr",
     "output_type": "stream",
     "text": [
      "C:\\Users\\bueni\\Anaconda3\\lib\\site-packages\\sklearn\\utils\\deprecation.py:87: FutureWarning: Function make_blobs is deprecated; Please import make_blobs directly from scikit-learn\n",
      "  warnings.warn(msg, category=FutureWarning)\n"
     ]
    }
   ],
   "source": [
    "X, y = make_blobs(n_samples=(4000, 500),\n",
    "                  centers=2,\n",
    "                  cluster_std=[7.0, 2],\n",
    "                  random_state=22)\n",
    "\n",
    "X_train, X_test, y_train, y_test = train_test_split(X, y, random_state=0)\n",
    "\n",
    "svc = SVC(gamma=.05).fit(X_train, y_train)"
   ]
  },
  {
   "cell_type": "code",
   "execution_count": 27,
   "metadata": {},
   "outputs": [
    {
     "data": {
      "image/png": "[encoded data removed]",
      "text/plain": [
       "<Figure size 504x360 with 1 Axes>"
      ]
     },
     "metadata": {
      "needs_background": "light"
     },
     "output_type": "display_data"
    }
   ],
   "source": [
    "from sklearn.metrics import precision_recall_curve\n",
    "\n",
    "precision, recall, thresholds = precision_recall_curve(y_test, svc.decision_function(X_test))\n",
    "\n",
    "close_zero = np.argmin(np.abs(thresholds))\n",
    "\n",
    "fig, ax = plt.subplots(figsize=(7,5))\n",
    "\n",
    "ax = plt.plot(precision[close_zero], recall[close_zero],\n",
    "         'o', markersize=10, label=\"threshold zero\",\n",
    "         fillstyle=\"none\", c='k', mew=2)\n",
    "\n",
    "ax = plt.plot(precision, recall, label=\"precision recall curve\")\n",
    "ax = plt.xlabel(\"Precision\")\n",
    "ax = plt.ylabel(\"Recall\")\n",
    "ax = plt.legend(bbox_to_anchor = (1, 1))\n",
    "sns.set_context('talk')"
   ]
  },
  {
   "cell_type": "markdown",
   "metadata": {},
   "source": [
    "No ponto 0, está o threshold padrão da `decision_function` do SVC - aproximadamente 0.65 de recall e de precisão. Cada um dos pontos da linha corresponde a uma possibilidade de threshold da decision_function. Também é possível ver que com um recall próximo do 0.5, podemos chegar em uma precisão de 0.75. \n",
    "<br>\n",
    "\n",
    "Quanto mais próximo essa curva estivar to topo direito, melhor o classificador (recall e precisão alta). Dá pra ver certinho o efeito que havíamos discutido antes: recall máximo -> precisão miníma e vice-versa. Nesse modelo em especifíco, podemos ver que até 0.5 de precisão, aumentar ela não tem muito custo de recall (a curva é quase reta na parte de cima). No entanto, após o 0.5 de precisão, cada aumento gera um custo de recall altíssimo, com uma queda brusca para chegar ao 0.7, por exemplo.\n",
    "<br>\n",
    "\n",
    "Vamos realizar essa curva para um segundo modelo:"
   ]
  },
  {
   "cell_type": "code",
   "execution_count": 28,
   "metadata": {},
   "outputs": [
    {
     "data": {
      "image/png": "[encoded data removed]",
      "text/plain": [
       "<Figure size 504x360 with 1 Axes>"
      ]
     },
     "metadata": {
      "needs_background": "light"
     },
     "output_type": "display_data"
    }
   ],
   "source": [
    "from sklearn.ensemble import RandomForestClassifier\n",
    "\n",
    "rf = RandomForestClassifier(n_estimators=100,\n",
    "                            random_state=0,\n",
    "                            max_features=2).fit(X_train, y_train)\n",
    "\n",
    "rf_precision, rf_recall, rf_thresholds = precision_recall_curve(y_test, rf.predict_proba(X_test)[:, 1])\n",
    "\n",
    "# Ajustando o argmin para o predict_proba\n",
    "rf_close_zero = np.argmin(np.abs(rf_thresholds - 0.5))\n",
    "\n",
    "fig, ax = plt.subplots(figsize=(7,5))\n",
    "\n",
    "# Curva pr para svc\n",
    "ax = plt.plot(precision[close_zero], recall[close_zero],\n",
    "         'o', markersize=10, label=\"threshold zero\",\n",
    "         fillstyle=\"none\", c='k', mew=2)\n",
    "\n",
    "ax = plt.plot(precision, recall, label=\"svc\")\n",
    "\n",
    "# Curva pr para rf\n",
    "ax = plt.plot(rf_precision[rf_close_zero], rf_recall[rf_close_zero],\n",
    "              '^', markersize=10, label=\"threshold 0.5 rf\",\n",
    "              fillstyle=\"none\", c='k', mew=2)\n",
    "\n",
    "ax = plt.plot(rf_precision, rf_recall, label=\"rf\")\n",
    "\n",
    "ax = plt.xlabel(\"Precision\")\n",
    "ax = plt.ylabel(\"Recall\")\n",
    "ax = plt.legend(bbox_to_anchor = (1, 1))"
   ]
  },
  {
   "cell_type": "markdown",
   "metadata": {},
   "source": [
    "O SVC funciona melhor no meio enquanto o RandomForest classifica melhor em valores extremos (Precisão ou Recall ~ 1). No geral, podemos considerar que o SVC é um modelo melhor e a métrica F-score, mas dependendo do problema o RF poderia ser mais útil."
   ]
  },
  {
   "cell_type": "code",
   "execution_count": 29,
   "metadata": {},
   "outputs": [
    {
     "name": "stdout",
     "output_type": "stream",
     "text": [
      "RF F1: 0.610\n",
      "SVC F1: 0.656\n"
     ]
    }
   ],
   "source": [
    "from sklearn.metrics import f1_score\n",
    "\n",
    "print(f\"RF F1: {f1_score(y_test, rf.predict(X_test)):.3f}\")\n",
    "\n",
    "print(f\"SVC F1: {f1_score(y_test, svc.predict(X_test)):.3f}\")"
   ]
  },
  {
   "cell_type": "markdown",
   "metadata": {},
   "source": [
    "Comparar a curva PR-REC entre modelos pode gerar alguns insights detalhados, mas é um processo bem manual. Podemos reduzir as curvas a uma comparação entre a área abaixo delas - com a métrica chamada PR AUC. Ela está disponível como `average_precision_score` no módulo de métricas do scikit-learn e recebe os métodos `predict_proba` e `decision_function` para que seja possível comparar múltiplos thresholds."
   ]
  },
  {
   "cell_type": "code",
   "execution_count": 30,
   "metadata": {},
   "outputs": [
    {
     "name": "stdout",
     "output_type": "stream",
     "text": [
      "Average precision of random forest: 0.660\n",
      "Average precision of svc: 0.666\n"
     ]
    }
   ],
   "source": [
    "from sklearn.metrics import average_precision_score\n",
    "\n",
    "ap_rf = average_precision_score(y_test, rf.predict_proba(X_test)[:, 1])\n",
    "ap_svc = average_precision_score(y_test, svc.decision_function(X_test))\n",
    "\n",
    "print(f\"Average precision of random forest: {ap_rf:.3f}\")\n",
    "print(f\"Average precision of svc: {ap_svc:.3f}\")"
   ]
  },
  {
   "cell_type": "markdown",
   "metadata": {},
   "source": [
    "Antes de entrar nas métricas para classificação multiclasse, tem mais uma ferramenta que é usada comumente para analisar o comportamento de classifcadores em diferentes thresholds: a curva ROC, sigla para receiver operating characteristics curve. Ela funciona de forma parecida à curva PR, mas ao invés de ser recall x precisão, é recall x False Positive Rate.\n",
    "\n",
    "FPR = $\\frac{FP}{FP + TN}$\n",
    "\n",
    "o FPR basicamente é a frequência de Falso Positivos entre todos os negativos da amostra (Falso Positivos + Negativos Verdadeiros). Assim como as outras métricas, ela também está disponível no mesmo módulo do sklearn."
   ]
  },
  {
   "cell_type": "code",
   "execution_count": 31,
   "metadata": {},
   "outputs": [
    {
     "data": {
      "image/png": "[encoded data removed]",
      "text/plain": [
       "<Figure size 504x360 with 1 Axes>"
      ]
     },
     "metadata": {
      "needs_background": "light"
     },
     "output_type": "display_data"
    }
   ],
   "source": [
    "from sklearn.metrics import roc_curve\n",
    "\n",
    "fig, ax = plt.subplots(figsize=(7,5))\n",
    "\n",
    "fpr, tpr, thresholds = roc_curve(y_test, svc.decision_function(X_test))\n",
    "ax = plt.plot(fpr, tpr, label=\"ROC Curve\")\n",
    "ax = plt.xlabel(\"FPR\")\n",
    "ax = plt.ylabel(\"TPR (recall)\")\n",
    "\n",
    "# find threshold closest to zero\n",
    "\n",
    "close_zero = np.argmin(np.abs(thresholds))\n",
    "ax = plt.plot(fpr[close_zero], tpr[close_zero], 'o',\n",
    "              markersize=10, label=\"threshold zero\",\n",
    "              fillstyle=\"none\", c='k', mew=2)\n",
    "\n",
    "ax = plt.legend(loc=4);"
   ]
  },
  {
   "cell_type": "markdown",
   "metadata": {},
   "source": [
    "Ao contrário da curva PR, a ROC tem seu melhor modelo quanto mais próximo do topo esquerdo: queremos um modelo com um alto recall (baixo número de Falso Negativos) e um baixo FPR (baixo número de Falso Positivos).\n",
    "\n",
    "No exemplo acima, podemos ver que é possível obter um recall mudando o threshold um pouco, sem aumentar muito o FPR. A partir de um certo ponto, para aumentar um pouquinho o recall seria necessário aumentar MUITO o FPR."
   ]
  },
  {
   "cell_type": "code",
   "execution_count": 32,
   "metadata": {},
   "outputs": [
    {
     "data": {
      "image/png": "[encoded data removed]",
      "text/plain": [
       "<Figure size 504x360 with 1 Axes>"
      ]
     },
     "metadata": {
      "needs_background": "light"
     },
     "output_type": "display_data"
    }
   ],
   "source": [
    "fig, ax = plt.subplots(figsize=(7,5))\n",
    "\n",
    "fpr_rf, tpr_rf, thresholds_rf = roc_curve(y_test, rf.predict_proba(X_test)[:, 1])\n",
    "\n",
    "ax = plt.plot(fpr, tpr, label=\"ROC Curve SVC\")\n",
    "ax = plt.plot(fpr_rf, tpr_rf, label=\"ROC Curve RF\")\n",
    "\n",
    "plt.xlabel(\"FPR\")\n",
    "plt.ylabel(\"TPR (recall)\")\n",
    "\n",
    "ax = plt.plot(fpr[close_zero], tpr[close_zero],\n",
    "              'o', markersize=10,\n",
    "              label=\"threshold zero SVC\",\n",
    "              fillstyle=\"none\", c='k', mew=2)\n",
    "\n",
    "close_default_rf = np.argmin(np.abs(thresholds_rf - 0.5))\n",
    "\n",
    "ax = plt.plot(fpr_rf[close_default_rf], tpr[close_default_rf],\n",
    "              '^', markersize=10,\n",
    "              label=\"threshold 0.5 RF\",\n",
    "              fillstyle=\"none\", c='k', mew=2)\n",
    "\n",
    "ax = plt.legend(loc=4);"
   ]
  },
  {
   "cell_type": "markdown",
   "metadata": {},
   "source": [
    "Assim como fizemos com o PR, também é possível calcular a área debaixo da curva ROC e ter uma métrica numérica para a curva:{"
   ]
  },
  {
   "cell_type": "code",
   "execution_count": 33,
   "metadata": {},
   "outputs": [
    {
     "name": "stdout",
     "output_type": "stream",
     "text": [
      "ROC AUC of random forest: 0.937\n",
      "ROC AUC of svc: 0.916\n"
     ]
    }
   ],
   "source": [
    "from sklearn.metrics import roc_auc_score\n",
    "\n",
    "roc_auc_rf = roc_auc_score(y_test, rf.predict_proba(X_test)[:, 1])\n",
    "roc_auc_svc = roc_auc_score(y_test, svc.decision_function(X_test))\n",
    "\n",
    "print(f\"ROC AUC of random forest: {roc_auc_rf:.3f}\")\n",
    "print(f\"ROC AUC of svc: {roc_auc_svc:.3f}\")"
   ]
  },
  {
   "cell_type": "markdown",
   "metadata": {},
   "source": [
    "Por causa das métricas utilizadas para o cálculo da ROC AUC, ela é muito recomendada para avaliar modelos em datasets com labels desbalanceados. Vale lembrar que a AUC não reconhece o threshold padrão mas sim testa os thresholds possíveis. Ela deve ser combinada com uma análise para decidir o melhor threshold para o problema. \n",
    "\n",
    "### Métricas para Classificação Multi-Classe\n",
    "\n",
    "Simplificando, elas são as mesmas que aquelas de classificação binária, mas tirando a média para o número de classes. Os problemas de balanceamento de classes continuam os mesmos (ex.: acurácia ser ruim para datasets desbalanceados) e etc.\n",
    "\n",
    "Vamos utilizar o dataset digits do sklearn -  contendo imagens de números escritos a mão p/ classificação (1-9) - para analisar as diferenças entre as métricas:"
   ]
  },
  {
   "cell_type": "code",
   "execution_count": 34,
   "metadata": {},
   "outputs": [
    {
     "name": "stdout",
     "output_type": "stream",
     "text": [
      "Accuracy: 0.953\n",
      "Confusion matrix:\n",
      "[[37  0  0  0  0  0  0  0  0  0]\n",
      " [ 0 40  0  0  0  0  0  0  2  1]\n",
      " [ 0  0 41  3  0  0  0  0  0  0]\n",
      " [ 0  0  0 44  0  0  0  0  1  0]\n",
      " [ 0  0  0  0 37  0  0  1  0  0]\n",
      " [ 0  0  0  0  0 46  0  0  0  2]\n",
      " [ 0  1  0  0  0  0 51  0  0  0]\n",
      " [ 0  0  0  1  1  0  0 46  0  0]\n",
      " [ 0  3  1  0  0  0  1  0 43  0]\n",
      " [ 0  0  0  0  0  1  0  0  2 44]]\n"
     ]
    }
   ],
   "source": [
    "from sklearn.datasets import load_digits\n",
    "from sklearn.metrics import accuracy_score, confusion_matrix\n",
    "\n",
    "digits = load_digits()\n",
    "\n",
    "X_train, X_test, y_train, y_test = train_test_split(digits.data, digits.target,\n",
    "                                                    random_state=0)\n",
    "lr = LogisticRegression(max_iter = 2000).fit(X_train, y_train)\n",
    "pred = lr.predict(X_test)\n",
    "\n",
    "print(f\"Accuracy: {accuracy_score(y_test, pred):.3f}\")\n",
    "print(f\"Confusion matrix:\\n{confusion_matrix(y_test, pred)}\")"
   ]
  },
  {
   "cell_type": "code",
   "execution_count": 35,
   "metadata": {},
   "outputs": [
    {
     "data": {
      "image/png": "[encoded data removed]",
      "text/plain": [
       "<Figure size 432x288 with 1 Axes>"
      ]
     },
     "metadata": {
      "needs_background": "light"
     },
     "output_type": "display_data"
    }
   ],
   "source": [
    "scores_image = mglearn.tools.heatmap(confusion_matrix(y_test, pred),\n",
    "                                     xlabel='Predicted label', ylabel='True label',\n",
    "                                     xticklabels=digits.target_names,\n",
    "                                     yticklabels=digits.target_names,\n",
    "                                     cmap=plt.cm.gray_r, fmt=\"%d\")\n",
    "plt.title(\"Confusion matrix\")\n",
    "plt.gca().invert_yaxis()"
   ]
  },
  {
   "cell_type": "code",
   "execution_count": 36,
   "metadata": {},
   "outputs": [
    {
     "name": "stdout",
     "output_type": "stream",
     "text": [
      "              precision    recall  f1-score   support\n",
      "\n",
      "           0       1.00      1.00      1.00        37\n",
      "           1       0.91      0.93      0.92        43\n",
      "           2       0.98      0.93      0.95        44\n",
      "           3       0.92      0.98      0.95        45\n",
      "           4       0.97      0.97      0.97        38\n",
      "           5       0.98      0.96      0.97        48\n",
      "           6       0.98      0.98      0.98        52\n",
      "           7       0.98      0.96      0.97        48\n",
      "           8       0.90      0.90      0.90        48\n",
      "           9       0.94      0.94      0.94        47\n",
      "\n",
      "    accuracy                           0.95       450\n",
      "   macro avg       0.95      0.95      0.95       450\n",
      "weighted avg       0.95      0.95      0.95       450\n",
      "\n"
     ]
    }
   ],
   "source": [
    "print(classification_report(y_test, pred))"
   ]
  },
  {
   "cell_type": "markdown",
   "metadata": {},
   "source": [
    "De acordo com o score, nosso modelo tem acurácia de 95.3% - o que já nos diz que o modelo está indo bem, considerando que nenhuma classe é muito desbalanceada.\n",
    "<br>\n",
    "\n",
    "Utilizando a matriz de confusão, vemos que o 0 foi classificado perfeitamente: todos os 0s foram classificados como 0 e nenhum outro número foi confundido pelo nosso modelo como 0. Isso explica a precisão, o recall e, consequentemente, o f1-score da classe 0 ser igual à 1. Já o número 8, por exemplo, foi classificado errado mais vezes. Nosso modelo classificou algumas das amostras como 1, como 2 e como 6. Além disso, ele também confundiu amostras de outros números e classificou eles como 8 - o que reduziu o recall e a precisão.\n",
    "<br>\n",
    "\n",
    "Para datasets multiclasse com labels desbalanceadas, a recomendação é utilizar a versão multiclasse do f-score. A ideia por trás dessa versão é calcular o f-score de forma binária para cada classe (mesma ideia da logreg one-vs-all) e depois tirar a média utilizando uma das estratégias abaixo:\n",
    "\n",
    "* **\"macro\"**: a média é computada de forma comum, sem ponderação entre as classes.\n",
    "* **\"weighted\"**: calcula a média ponderada de acordo com o número de samples em cada classe (support no classification report)\n",
    "* **\"micro**: computa o total de FPs, FNs, e TPs em todas as classes e com isso calucla a precisão, o recall e o f-score utilizando as contagens.\n",
    "\n",
    "Se a importância maior é a igualdade entre samples, a recomendação é utilizar a média \"micro\". Para a igualdade entre classes, é recomendado usar a média \"macro\"."
   ]
  },
  {
   "cell_type": "code",
   "execution_count": 37,
   "metadata": {},
   "outputs": [
    {
     "name": "stdout",
     "output_type": "stream",
     "text": [
      "Micro average f1 score: 0.953\n",
      "Macro average f1 score: 0.954\n"
     ]
    }
   ],
   "source": [
    "print(f\"Micro average f1 score: {(f1_score(y_test, pred, average='micro')):.3f}\")\n",
    "\n",
    "print(f\"Macro average f1 score: {(f1_score(y_test, pred, average='macro')):.3f}\")"
   ]
  },
  {
   "cell_type": "markdown",
   "metadata": {},
   "source": [
    "Infelizmente, as autoras não cobriram quase nada sobre métricas para regressão. Apenas afiramram que a avaliação é feita de forma parecida com a classificação e que para a maioria dos problemas, o uso de R² é suficiente - podendo ser trocada para MAE ou MSE em casos onde decisões de negócio são feitas a partir dessas métricas.\n",
    "\n",
    "## Utilizando as Métricas para Seleção do Modelo\n",
    "\n",
    "Um dos parâmetros do GridSearch e da validação cruzada que foi deixado para o final é o `scoring`, que define qual é a métrica utilizada para a seleção do melhor set de hiperparâmetros. Por padrão, é utilizado a acurácia para classificação e o R² para regressão, mas podemos troca-los para qualquer que seja o ideal dependendo do problema:"
   ]
  },
  {
   "cell_type": "code",
   "execution_count": 38,
   "metadata": {},
   "outputs": [
    {
     "name": "stdout",
     "output_type": "stream",
     "text": [
      "Default scoring: [0.975      0.99166667 1.         0.99442897 0.98050139]\n",
      "AUC scoring: [0.99717078 0.99854252 1.         0.999828   0.98400413]\n"
     ]
    }
   ],
   "source": [
    "# Por padrão, a acurácia é selecionada\n",
    "accuracy = cross_val_score(SVC(), digits.data, digits.target == 9)\n",
    "print(f\"Default scoring: {accuracy}\")\n",
    "\n",
    "# Selecionando o roc_auc\n",
    "roc_auc = cross_val_score(SVC(), digits.data,\n",
    "                          digits.target == 9, scoring=\"roc_auc\")\n",
    "\n",
    "print(f\"AUC scoring: {roc_auc}\")"
   ]
  },
  {
   "cell_type": "markdown",
   "metadata": {},
   "source": [
    "Podemos fazer a mesma coisa no GridSearchCV:"
   ]
  },
  {
   "cell_type": "code",
   "execution_count": 39,
   "metadata": {},
   "outputs": [
    {
     "name": "stdout",
     "output_type": "stream",
     "text": [
      "Grid-Search with accuracy\n",
      "Best parameters: {'gamma': 0.0001}\n",
      "Best cross-validation score (accuracy)): 0.976\n",
      "Test set AUC: 0.992\n",
      "Test set accuracy: 0.973\n"
     ]
    }
   ],
   "source": [
    "X_train, X_test, y_train, y_test = train_test_split(digits.data, digits.target == 9,\n",
    "                                                    random_state=0)\n",
    "\n",
    "param_grid = {'gamma': [0.0001, 0.01, 0.1, 1, 10]}\n",
    "\n",
    "# Usando o scoring padrão - acurácia\n",
    "grid = GridSearchCV(SVC(), param_grid=param_grid)\n",
    "grid.fit(X_train, y_train)\n",
    "\n",
    "print(\"Grid-Search with accuracy\")\n",
    "print(\"Best parameters:\", grid.best_params_)\n",
    "print(f\"Best cross-validation score (accuracy)): {grid.best_score_:.3f}\".format())\n",
    "\n",
    "roc_auc = roc_auc_score(y_test, grid.decision_function(X_test))\n",
    "print(f\"Test set AUC: {roc_auc:.3f}\")\n",
    "\n",
    "accuracy = accuracy_score(y_test, grid.predict(X_test))\n",
    "print(f\"Test set accuracy: {accuracy:.3f}\")"
   ]
  },
  {
   "cell_type": "code",
   "execution_count": 40,
   "metadata": {},
   "outputs": [
    {
     "name": "stdout",
     "output_type": "stream",
     "text": [
      "Grid-Search with ROC AUC\n",
      "Best parameters: {'gamma': 0.01}\n",
      "Best cross-validation score (AUC): 0.998\n",
      "Test set AUC: 1.000\n",
      "Test set accuracy: 0.896\n"
     ]
    }
   ],
   "source": [
    "# Usando o scoring padrão - acurácia\n",
    "grid = GridSearchCV(SVC(), param_grid=param_grid, scoring=\"roc_auc\")\n",
    "grid.fit(X_train, y_train)\n",
    "\n",
    "print(\"Grid-Search with ROC AUC\")\n",
    "print(\"Best parameters:\", grid.best_params_)\n",
    "print(f\"Best cross-validation score (AUC): {grid.best_score_:.3f}\".format())\n",
    "\n",
    "roc_auc = roc_auc_score(y_test, grid.decision_function(X_test))\n",
    "print(f\"Test set AUC: {roc_auc:.3f}\")\n",
    "\n",
    "accuracy = accuracy_score(y_test, grid.predict(X_test))\n",
    "print(f\"Test set accuracy: {accuracy:.3f}\")"
   ]
  },
  {
   "cell_type": "markdown",
   "metadata": {},
   "source": [
    "Note como além dos scores diferentes sendo selecionados, o GridSearch também selecionou parâmetros diferentes. Podemos ver todas as possibilidades do scoring utilizando o dicionário `scorer`, também no módulo metrics:"
   ]
  },
  {
   "cell_type": "code",
   "execution_count": 41,
   "metadata": {},
   "outputs": [
    {
     "name": "stderr",
     "output_type": "stream",
     "text": [
      "C:\\Users\\bueni\\Anaconda3\\lib\\site-packages\\sklearn\\utils\\deprecation.py:144: FutureWarning: The sklearn.metrics.scorer module is  deprecated in version 0.22 and will be removed in version 0.24. The corresponding classes / functions should instead be imported from sklearn.metrics. Anything that cannot be imported from sklearn.metrics is now part of the private API.\n",
      "  warnings.warn(message, FutureWarning)\n"
     ]
    },
    {
     "data": {
      "text/plain": [
       "{'explained_variance': make_scorer(explained_variance_score),\n",
       " 'r2': make_scorer(r2_score),\n",
       " 'max_error': make_scorer(max_error, greater_is_better=False),\n",
       " 'neg_median_absolute_error': make_scorer(median_absolute_error, greater_is_better=False),\n",
       " 'neg_mean_absolute_error': make_scorer(mean_absolute_error, greater_is_better=False),\n",
       " 'neg_mean_squared_error': make_scorer(mean_squared_error, greater_is_better=False),\n",
       " 'neg_mean_squared_log_error': make_scorer(mean_squared_log_error, greater_is_better=False),\n",
       " 'neg_root_mean_squared_error': make_scorer(mean_squared_error, greater_is_better=False, squared=False),\n",
       " 'neg_mean_poisson_deviance': make_scorer(mean_poisson_deviance, greater_is_better=False),\n",
       " 'neg_mean_gamma_deviance': make_scorer(mean_gamma_deviance, greater_is_better=False),\n",
       " 'accuracy': make_scorer(accuracy_score),\n",
       " 'roc_auc': make_scorer(roc_auc_score, needs_threshold=True),\n",
       " 'roc_auc_ovr': make_scorer(roc_auc_score, needs_proba=True, multi_class=ovr),\n",
       " 'roc_auc_ovo': make_scorer(roc_auc_score, needs_proba=True, multi_class=ovo),\n",
       " 'roc_auc_ovr_weighted': make_scorer(roc_auc_score, needs_proba=True, multi_class=ovr, average=weighted),\n",
       " 'roc_auc_ovo_weighted': make_scorer(roc_auc_score, needs_proba=True, multi_class=ovo, average=weighted),\n",
       " 'balanced_accuracy': make_scorer(balanced_accuracy_score),\n",
       " 'average_precision': make_scorer(average_precision_score, needs_threshold=True),\n",
       " 'neg_log_loss': make_scorer(log_loss, greater_is_better=False, needs_proba=True),\n",
       " 'neg_brier_score': make_scorer(brier_score_loss, greater_is_better=False, needs_proba=True),\n",
       " 'adjusted_rand_score': make_scorer(adjusted_rand_score),\n",
       " 'homogeneity_score': make_scorer(homogeneity_score),\n",
       " 'completeness_score': make_scorer(completeness_score),\n",
       " 'v_measure_score': make_scorer(v_measure_score),\n",
       " 'mutual_info_score': make_scorer(mutual_info_score),\n",
       " 'adjusted_mutual_info_score': make_scorer(adjusted_mutual_info_score),\n",
       " 'normalized_mutual_info_score': make_scorer(normalized_mutual_info_score),\n",
       " 'fowlkes_mallows_score': make_scorer(fowlkes_mallows_score),\n",
       " 'precision': make_scorer(precision_score, average=binary),\n",
       " 'precision_macro': make_scorer(precision_score, pos_label=None, average=macro),\n",
       " 'precision_micro': make_scorer(precision_score, pos_label=None, average=micro),\n",
       " 'precision_samples': make_scorer(precision_score, pos_label=None, average=samples),\n",
       " 'precision_weighted': make_scorer(precision_score, pos_label=None, average=weighted),\n",
       " 'recall': make_scorer(recall_score, average=binary),\n",
       " 'recall_macro': make_scorer(recall_score, pos_label=None, average=macro),\n",
       " 'recall_micro': make_scorer(recall_score, pos_label=None, average=micro),\n",
       " 'recall_samples': make_scorer(recall_score, pos_label=None, average=samples),\n",
       " 'recall_weighted': make_scorer(recall_score, pos_label=None, average=weighted),\n",
       " 'f1': make_scorer(f1_score, average=binary),\n",
       " 'f1_macro': make_scorer(f1_score, pos_label=None, average=macro),\n",
       " 'f1_micro': make_scorer(f1_score, pos_label=None, average=micro),\n",
       " 'f1_samples': make_scorer(f1_score, pos_label=None, average=samples),\n",
       " 'f1_weighted': make_scorer(f1_score, pos_label=None, average=weighted),\n",
       " 'jaccard': make_scorer(jaccard_score, average=binary),\n",
       " 'jaccard_macro': make_scorer(jaccard_score, pos_label=None, average=macro),\n",
       " 'jaccard_micro': make_scorer(jaccard_score, pos_label=None, average=micro),\n",
       " 'jaccard_samples': make_scorer(jaccard_score, pos_label=None, average=samples),\n",
       " 'jaccard_weighted': make_scorer(jaccard_score, pos_label=None, average=weighted)}"
      ]
     },
     "execution_count": 41,
     "metadata": {},
     "output_type": "execute_result"
    }
   ],
   "source": [
    "from sklearn.metrics.scorer import SCORERS\n",
    "\n",
    "SCORERS"
   ]
  },
  {
   "cell_type": "markdown",
   "metadata": {},
   "source": [
    "## Sumário e Conclusão\n",
    "\n",
    "No capítulo 5, foi discutido métodos de validação cruzada, hiperparametrização através do GridSearch e métricas de avaliação - tudo isso para melhorar os modelos discutidos nos capítulos 2 e 3. Entre os pontos tratados, foi dada muita importância para a forma correta de avaliação de modelos para aplicações reais (utilizando um set de testes completamente separado) e o uso de métricas válidas para o problema do negócio. Na minha opinião, faltou um pouco de atenção às principais métricas de regressão, que não foram tratadas no capítulo."
   ]
  }
 ],
 "metadata": {
  "kernelspec": {
   "display_name": "Python 3",
   "language": "python",
   "name": "python3"
  },
  "language_info": {
   "codemirror_mode": {
    "name": "ipython",
    "version": 3
   },
   "file_extension": ".py",
   "mimetype": "text/x-python",
   "name": "python",
   "nbconvert_exporter": "python",
   "pygments_lexer": "ipython3",
   "version": "3.8.3"
  }
 },
 "nbformat": 4,
 "nbformat_minor": 4
}
